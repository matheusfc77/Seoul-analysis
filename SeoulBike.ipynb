{
  "nbformat": 4,
  "nbformat_minor": 0,
  "metadata": {
    "colab": {
      "name": "SeoulBike V2.ipynb",
      "provenance": [],
      "collapsed_sections": []
    },
    "kernelspec": {
      "name": "python3",
      "display_name": "Python 3"
    }
  },
  "cells": [
    {
      "cell_type": "markdown",
      "metadata": {
        "id": "sFpo5rx3T_gq"
      },
      "source": [
        "# Estudo de caso sobre bicicletas alugadas em Seul - Coreia do Sul\n",
        "\n",
        "Os dados foram coletados durante os anos de 2017 e 2018. Consistem em informações sobre o clima e data. O objetivo é prever a quantidade de bicicletas que serão alugadas nas condições propostas.\n",
        "\n",
        "Os dados podem ser obtidos em: <https://archive.ics.uci.edu/ml/datasets/Seoul+Bike+Sharing+Demand>\n",
        "\n",
        "---\n",
        "\n",
        "**Citações**\n",
        "\n",
        "[1] Dua, D. and Graff, C. (2019). UCI Machine Learning Repository [http://archive.ics.uci.edu/ml]. Irvine, CA: University of California, School of Information and Computer Science.\n",
        "\n",
        "[2] Sathishkumar V E, Jangwoo Park, and Yongyun Cho. 'Using data mining techniques for bike sharing demand prediction in metropolitan city.' Computer Communications, Vol.153, pp.353-366, March, 2020\n",
        "\n",
        "[3] Sathishkumar V E and Yongyun Cho. 'A rule-based model for Seoul Bike sharing demand prediction using weather data' European Journal of Remote Sensing, pp. 1-18, Feb, 2020\n"
      ]
    },
    {
      "cell_type": "markdown",
      "metadata": {
        "id": "w2asLWfxI4Ky"
      },
      "source": [
        "## Resumo\n",
        "* Importando as principais bibliotecas\n",
        "* Importando o conjunto de dados\n",
        "* Análise Exploratória\n",
        "* Criação de Variáveis\n",
        "* Pré-processamento de dados\n",
        "* Divisão dos dados entre treino e teste\n",
        "* Modelo (XGBoost)\n",
        "* Predição nos dados de treino\n",
        "* Predição nos dados de teste\n",
        "* Performance do modelo nos dados de teste\n",
        "* Impacto das variáveis no modelo\n",
        "* Realizando uma predição"
      ]
    },
    {
      "cell_type": "markdown",
      "metadata": {
        "id": "6lLtLmUFUf0y"
      },
      "source": [
        "## Importando as principais bibliotecas"
      ]
    },
    {
      "cell_type": "code",
      "metadata": {
        "id": "1Vkivm-kT2nc"
      },
      "source": [
        "import pandas as pd\n",
        "import numpy as np\n",
        "import matplotlib.pyplot as plt\n",
        "import seaborn as sns\n",
        "plt.style.use('seaborn')\n",
        "sns.set_theme(style=\"darkgrid\")"
      ],
      "execution_count": null,
      "outputs": []
    },
    {
      "cell_type": "markdown",
      "metadata": {
        "id": "EbWH7ebdUqzf"
      },
      "source": [
        "## Importando o conjunto de dados"
      ]
    },
    {
      "cell_type": "code",
      "metadata": {
        "id": "_E-KpmX8F4cv"
      },
      "source": [
        "dataset = pd.read_csv(\n",
        "    'https://archive.ics.uci.edu/ml/machine-learning-databases/00560/SeoulBikeData.csv', \n",
        "    encoding='ISO-8859-1')"
      ],
      "execution_count": null,
      "outputs": []
    },
    {
      "cell_type": "code",
      "metadata": {
        "colab": {
          "base_uri": "https://localhost:8080/",
          "height": 323
        },
        "id": "2pYuxAFPfSYK",
        "outputId": "c6796b0b-f5ec-46e7-a718-f71d6acea824"
      },
      "source": [
        "dataset.head()"
      ],
      "execution_count": null,
      "outputs": [
        {
          "output_type": "execute_result",
          "data": {
            "text/html": [
              "<div>\n",
              "<style scoped>\n",
              "    .dataframe tbody tr th:only-of-type {\n",
              "        vertical-align: middle;\n",
              "    }\n",
              "\n",
              "    .dataframe tbody tr th {\n",
              "        vertical-align: top;\n",
              "    }\n",
              "\n",
              "    .dataframe thead th {\n",
              "        text-align: right;\n",
              "    }\n",
              "</style>\n",
              "<table border=\"1\" class=\"dataframe\">\n",
              "  <thead>\n",
              "    <tr style=\"text-align: right;\">\n",
              "      <th></th>\n",
              "      <th>Date</th>\n",
              "      <th>Rented Bike Count</th>\n",
              "      <th>Hour</th>\n",
              "      <th>Temperature(°C)</th>\n",
              "      <th>Humidity(%)</th>\n",
              "      <th>Wind speed (m/s)</th>\n",
              "      <th>Visibility (10m)</th>\n",
              "      <th>Dew point temperature(°C)</th>\n",
              "      <th>Solar Radiation (MJ/m2)</th>\n",
              "      <th>Rainfall(mm)</th>\n",
              "      <th>Snowfall (cm)</th>\n",
              "      <th>Seasons</th>\n",
              "      <th>Holiday</th>\n",
              "      <th>Functioning Day</th>\n",
              "    </tr>\n",
              "  </thead>\n",
              "  <tbody>\n",
              "    <tr>\n",
              "      <th>0</th>\n",
              "      <td>01/12/2017</td>\n",
              "      <td>254</td>\n",
              "      <td>0</td>\n",
              "      <td>-5.2</td>\n",
              "      <td>37</td>\n",
              "      <td>2.2</td>\n",
              "      <td>2000</td>\n",
              "      <td>-17.6</td>\n",
              "      <td>0.0</td>\n",
              "      <td>0.0</td>\n",
              "      <td>0.0</td>\n",
              "      <td>Winter</td>\n",
              "      <td>No Holiday</td>\n",
              "      <td>Yes</td>\n",
              "    </tr>\n",
              "    <tr>\n",
              "      <th>1</th>\n",
              "      <td>01/12/2017</td>\n",
              "      <td>204</td>\n",
              "      <td>1</td>\n",
              "      <td>-5.5</td>\n",
              "      <td>38</td>\n",
              "      <td>0.8</td>\n",
              "      <td>2000</td>\n",
              "      <td>-17.6</td>\n",
              "      <td>0.0</td>\n",
              "      <td>0.0</td>\n",
              "      <td>0.0</td>\n",
              "      <td>Winter</td>\n",
              "      <td>No Holiday</td>\n",
              "      <td>Yes</td>\n",
              "    </tr>\n",
              "    <tr>\n",
              "      <th>2</th>\n",
              "      <td>01/12/2017</td>\n",
              "      <td>173</td>\n",
              "      <td>2</td>\n",
              "      <td>-6.0</td>\n",
              "      <td>39</td>\n",
              "      <td>1.0</td>\n",
              "      <td>2000</td>\n",
              "      <td>-17.7</td>\n",
              "      <td>0.0</td>\n",
              "      <td>0.0</td>\n",
              "      <td>0.0</td>\n",
              "      <td>Winter</td>\n",
              "      <td>No Holiday</td>\n",
              "      <td>Yes</td>\n",
              "    </tr>\n",
              "    <tr>\n",
              "      <th>3</th>\n",
              "      <td>01/12/2017</td>\n",
              "      <td>107</td>\n",
              "      <td>3</td>\n",
              "      <td>-6.2</td>\n",
              "      <td>40</td>\n",
              "      <td>0.9</td>\n",
              "      <td>2000</td>\n",
              "      <td>-17.6</td>\n",
              "      <td>0.0</td>\n",
              "      <td>0.0</td>\n",
              "      <td>0.0</td>\n",
              "      <td>Winter</td>\n",
              "      <td>No Holiday</td>\n",
              "      <td>Yes</td>\n",
              "    </tr>\n",
              "    <tr>\n",
              "      <th>4</th>\n",
              "      <td>01/12/2017</td>\n",
              "      <td>78</td>\n",
              "      <td>4</td>\n",
              "      <td>-6.0</td>\n",
              "      <td>36</td>\n",
              "      <td>2.3</td>\n",
              "      <td>2000</td>\n",
              "      <td>-18.6</td>\n",
              "      <td>0.0</td>\n",
              "      <td>0.0</td>\n",
              "      <td>0.0</td>\n",
              "      <td>Winter</td>\n",
              "      <td>No Holiday</td>\n",
              "      <td>Yes</td>\n",
              "    </tr>\n",
              "  </tbody>\n",
              "</table>\n",
              "</div>"
            ],
            "text/plain": [
              "         Date  Rented Bike Count  Hour  ...  Seasons     Holiday  Functioning Day\n",
              "0  01/12/2017                254     0  ...   Winter  No Holiday              Yes\n",
              "1  01/12/2017                204     1  ...   Winter  No Holiday              Yes\n",
              "2  01/12/2017                173     2  ...   Winter  No Holiday              Yes\n",
              "3  01/12/2017                107     3  ...   Winter  No Holiday              Yes\n",
              "4  01/12/2017                 78     4  ...   Winter  No Holiday              Yes\n",
              "\n",
              "[5 rows x 14 columns]"
            ]
          },
          "metadata": {},
          "execution_count": 3
        }
      ]
    },
    {
      "cell_type": "markdown",
      "metadata": {
        "id": "1bSUk54l4esl"
      },
      "source": [
        "## Análise Exploratória"
      ]
    },
    {
      "cell_type": "markdown",
      "metadata": {
        "id": "GlPHMclkovcX"
      },
      "source": [
        "### Há valores nulos?"
      ]
    },
    {
      "cell_type": "code",
      "metadata": {
        "colab": {
          "base_uri": "https://localhost:8080/"
        },
        "id": "TlQehQPDFJ9c",
        "outputId": "96ad5aa7-9fe2-454d-f387-5aa3778fc6fd"
      },
      "source": [
        "dataset.isnull().sum()"
      ],
      "execution_count": null,
      "outputs": [
        {
          "output_type": "execute_result",
          "data": {
            "text/plain": [
              "Date                         0\n",
              "Rented Bike Count            0\n",
              "Hour                         0\n",
              "Temperature(°C)              0\n",
              "Humidity(%)                  0\n",
              "Wind speed (m/s)             0\n",
              "Visibility (10m)             0\n",
              "Dew point temperature(°C)    0\n",
              "Solar Radiation (MJ/m2)      0\n",
              "Rainfall(mm)                 0\n",
              "Snowfall (cm)                0\n",
              "Seasons                      0\n",
              "Holiday                      0\n",
              "Functioning Day              0\n",
              "dtype: int64"
            ]
          },
          "metadata": {},
          "execution_count": 4
        }
      ]
    },
    {
      "cell_type": "markdown",
      "metadata": {
        "id": "3np-dCMVfuep"
      },
      "source": [
        "### Resumo dos dados"
      ]
    },
    {
      "cell_type": "code",
      "metadata": {
        "colab": {
          "base_uri": "https://localhost:8080/",
          "height": 314
        },
        "id": "PydkwTJRFRUn",
        "outputId": "2319d444-7f8a-4e64-ed41-b686bc1f0b92"
      },
      "source": [
        "dataset.describe()"
      ],
      "execution_count": null,
      "outputs": [
        {
          "output_type": "execute_result",
          "data": {
            "text/html": [
              "<div>\n",
              "<style scoped>\n",
              "    .dataframe tbody tr th:only-of-type {\n",
              "        vertical-align: middle;\n",
              "    }\n",
              "\n",
              "    .dataframe tbody tr th {\n",
              "        vertical-align: top;\n",
              "    }\n",
              "\n",
              "    .dataframe thead th {\n",
              "        text-align: right;\n",
              "    }\n",
              "</style>\n",
              "<table border=\"1\" class=\"dataframe\">\n",
              "  <thead>\n",
              "    <tr style=\"text-align: right;\">\n",
              "      <th></th>\n",
              "      <th>Rented Bike Count</th>\n",
              "      <th>Hour</th>\n",
              "      <th>Temperature(°C)</th>\n",
              "      <th>Humidity(%)</th>\n",
              "      <th>Wind speed (m/s)</th>\n",
              "      <th>Visibility (10m)</th>\n",
              "      <th>Dew point temperature(°C)</th>\n",
              "      <th>Solar Radiation (MJ/m2)</th>\n",
              "      <th>Rainfall(mm)</th>\n",
              "      <th>Snowfall (cm)</th>\n",
              "    </tr>\n",
              "  </thead>\n",
              "  <tbody>\n",
              "    <tr>\n",
              "      <th>count</th>\n",
              "      <td>8760.000000</td>\n",
              "      <td>8760.000000</td>\n",
              "      <td>8760.000000</td>\n",
              "      <td>8760.000000</td>\n",
              "      <td>8760.000000</td>\n",
              "      <td>8760.000000</td>\n",
              "      <td>8760.000000</td>\n",
              "      <td>8760.000000</td>\n",
              "      <td>8760.000000</td>\n",
              "      <td>8760.000000</td>\n",
              "    </tr>\n",
              "    <tr>\n",
              "      <th>mean</th>\n",
              "      <td>704.602055</td>\n",
              "      <td>11.500000</td>\n",
              "      <td>12.882922</td>\n",
              "      <td>58.226256</td>\n",
              "      <td>1.724909</td>\n",
              "      <td>1436.825799</td>\n",
              "      <td>4.073813</td>\n",
              "      <td>0.569111</td>\n",
              "      <td>0.148687</td>\n",
              "      <td>0.075068</td>\n",
              "    </tr>\n",
              "    <tr>\n",
              "      <th>std</th>\n",
              "      <td>644.997468</td>\n",
              "      <td>6.922582</td>\n",
              "      <td>11.944825</td>\n",
              "      <td>20.362413</td>\n",
              "      <td>1.036300</td>\n",
              "      <td>608.298712</td>\n",
              "      <td>13.060369</td>\n",
              "      <td>0.868746</td>\n",
              "      <td>1.128193</td>\n",
              "      <td>0.436746</td>\n",
              "    </tr>\n",
              "    <tr>\n",
              "      <th>min</th>\n",
              "      <td>0.000000</td>\n",
              "      <td>0.000000</td>\n",
              "      <td>-17.800000</td>\n",
              "      <td>0.000000</td>\n",
              "      <td>0.000000</td>\n",
              "      <td>27.000000</td>\n",
              "      <td>-30.600000</td>\n",
              "      <td>0.000000</td>\n",
              "      <td>0.000000</td>\n",
              "      <td>0.000000</td>\n",
              "    </tr>\n",
              "    <tr>\n",
              "      <th>25%</th>\n",
              "      <td>191.000000</td>\n",
              "      <td>5.750000</td>\n",
              "      <td>3.500000</td>\n",
              "      <td>42.000000</td>\n",
              "      <td>0.900000</td>\n",
              "      <td>940.000000</td>\n",
              "      <td>-4.700000</td>\n",
              "      <td>0.000000</td>\n",
              "      <td>0.000000</td>\n",
              "      <td>0.000000</td>\n",
              "    </tr>\n",
              "    <tr>\n",
              "      <th>50%</th>\n",
              "      <td>504.500000</td>\n",
              "      <td>11.500000</td>\n",
              "      <td>13.700000</td>\n",
              "      <td>57.000000</td>\n",
              "      <td>1.500000</td>\n",
              "      <td>1698.000000</td>\n",
              "      <td>5.100000</td>\n",
              "      <td>0.010000</td>\n",
              "      <td>0.000000</td>\n",
              "      <td>0.000000</td>\n",
              "    </tr>\n",
              "    <tr>\n",
              "      <th>75%</th>\n",
              "      <td>1065.250000</td>\n",
              "      <td>17.250000</td>\n",
              "      <td>22.500000</td>\n",
              "      <td>74.000000</td>\n",
              "      <td>2.300000</td>\n",
              "      <td>2000.000000</td>\n",
              "      <td>14.800000</td>\n",
              "      <td>0.930000</td>\n",
              "      <td>0.000000</td>\n",
              "      <td>0.000000</td>\n",
              "    </tr>\n",
              "    <tr>\n",
              "      <th>max</th>\n",
              "      <td>3556.000000</td>\n",
              "      <td>23.000000</td>\n",
              "      <td>39.400000</td>\n",
              "      <td>98.000000</td>\n",
              "      <td>7.400000</td>\n",
              "      <td>2000.000000</td>\n",
              "      <td>27.200000</td>\n",
              "      <td>3.520000</td>\n",
              "      <td>35.000000</td>\n",
              "      <td>8.800000</td>\n",
              "    </tr>\n",
              "  </tbody>\n",
              "</table>\n",
              "</div>"
            ],
            "text/plain": [
              "       Rented Bike Count         Hour  ...  Rainfall(mm)  Snowfall (cm)\n",
              "count        8760.000000  8760.000000  ...   8760.000000    8760.000000\n",
              "mean          704.602055    11.500000  ...      0.148687       0.075068\n",
              "std           644.997468     6.922582  ...      1.128193       0.436746\n",
              "min             0.000000     0.000000  ...      0.000000       0.000000\n",
              "25%           191.000000     5.750000  ...      0.000000       0.000000\n",
              "50%           504.500000    11.500000  ...      0.000000       0.000000\n",
              "75%          1065.250000    17.250000  ...      0.000000       0.000000\n",
              "max          3556.000000    23.000000  ...     35.000000       8.800000\n",
              "\n",
              "[8 rows x 10 columns]"
            ]
          },
          "metadata": {},
          "execution_count": 5
        }
      ]
    },
    {
      "cell_type": "markdown",
      "metadata": {
        "id": "G-3jEJvfOLfY"
      },
      "source": [
        "### Histogramas das variáveis numéricas"
      ]
    },
    {
      "cell_type": "code",
      "metadata": {
        "id": "QPrZX8mlIBhP",
        "colab": {
          "base_uri": "https://localhost:8080/",
          "height": 885
        },
        "outputId": "82c7ac81-cd13-4b09-e6cb-4d7b1836e6e9"
      },
      "source": [
        "dataset.hist(bins=50, figsize=(20,15))\n",
        "plt.show()"
      ],
      "execution_count": null,
      "outputs": [
        {
          "output_type": "display_data",
          "data": {
            "image/png": "[encoded data removed]",
            "text/plain": [
              "<Figure size 1440x1080 with 12 Axes>"
            ]
          },
          "metadata": {
            "needs_background": "light"
          }
        }
      ]
    },
    {
      "cell_type": "markdown",
      "metadata": {
        "id": "-kmk2ALrPA5z"
      },
      "source": [
        "### Correlações das variáveis numéricas"
      ]
    },
    {
      "cell_type": "code",
      "metadata": {
        "colab": {
          "base_uri": "https://localhost:8080/",
          "height": 575
        },
        "id": "SxrV6dveWVzn",
        "outputId": "1230b503-051d-44a6-9fed-886a4356e1c0"
      },
      "source": [
        "dt_corr = dataset.corr()\n",
        "dt_mask = np.zeros_like(dt_corr, dtype=np.bool)\n",
        "dt_mask[np.triu_indices_from(dt_mask)] = True\n",
        "fig, ax = plt.subplots(figsize=(10, 7))\n",
        "pl = sns.heatmap(dt_corr, mask=dt_mask, cmap= \"coolwarm\", vmax=.5, vmin=-.5, center=0, linewidths=.5,\n",
        "                 cbar_kws={\"shrink\": 0.6})\n",
        "plt.show()"
      ],
      "execution_count": null,
      "outputs": [
        {
          "output_type": "display_data",
          "data": {
            "image/png": "[encoded data removed]",
            "text/plain": [
              "<Figure size 720x504 with 2 Axes>"
            ]
          },
          "metadata": {
            "needs_background": "light"
          }
        }
      ]
    },
    {
      "cell_type": "markdown",
      "metadata": {
        "id": "J0xlTtjfQvW7"
      },
      "source": [
        "Alta correlação entre a quantidade de bicicletas alugadas e a temperatura. Pouca correlação entre precipitação e neve com as demais variáveis.\n"
      ]
    },
    {
      "cell_type": "markdown",
      "metadata": {
        "id": "pArAVQi95YIC"
      },
      "source": [
        "### Bicicletas alugadas por hora"
      ]
    },
    {
      "cell_type": "code",
      "metadata": {
        "id": "HR-hquTd4jeT",
        "colab": {
          "base_uri": "https://localhost:8080/",
          "height": 458
        },
        "outputId": "a977f30b-3a8e-45cf-8e2b-08c6f16e66bf"
      },
      "source": [
        "hour = pd.DataFrame({'Hour': [i for i in range(24)], \n",
        "                     'Rented Bicycles': dataset.groupby('Hour').sum()['Rented Bike Count']})\n",
        "\n",
        "sns.catplot(x='Hour', y='Rented Bicycles', kind='bar', data=hour, height=6, aspect=1.8, \n",
        "    palette='Blues_d', ci=None)"
      ],
      "execution_count": null,
      "outputs": [
        {
          "output_type": "execute_result",
          "data": {
            "text/plain": [
              "<seaborn.axisgrid.FacetGrid at 0x7f5eea2a9150>"
            ]
          },
          "metadata": {},
          "execution_count": 96
        },
        {
          "output_type": "display_data",
          "data": {
            "image/png": "[encoded data removed]",
            "text/plain": [
              "<Figure size 777.6x432 with 1 Axes>"
            ]
          },
          "metadata": {
            "needs_background": "light"
          }
        }
      ]
    },
    {
      "cell_type": "markdown",
      "metadata": {
        "id": "CZw6IV7WjcHA"
      },
      "source": [
        "Há picos às 8h e 18h. Uma causa provável é o início e fim do horário comercial, em que muitas pessoas utilizam bicicletas para se locomover até o trabalho."
      ]
    },
    {
      "cell_type": "markdown",
      "metadata": {
        "id": "bIqgMspWY7yV"
      },
      "source": [
        "### Bicicletas alugadas por temperatura"
      ]
    },
    {
      "cell_type": "code",
      "metadata": {
        "colab": {
          "base_uri": "https://localhost:8080/",
          "height": 478
        },
        "id": "AajFb2c-ZFLY",
        "outputId": "eae4ab7d-17e6-4718-d5cb-4ae3f6c31b0f"
      },
      "source": [
        "temperature = pd.DataFrame({'Temperature': dataset.groupby('Temperature(°C)').sum()['Rented Bike Count'].index, \n",
        "                            'Rented Bicycles': dataset.groupby('Temperature(°C)').sum()['Rented Bike Count'].values})\n",
        "\n",
        "temperature['Temperature (Int)'] = temperature.Temperature.map(lambda t: round(t))\n",
        "\n",
        "sns.catplot(x='Temperature (Int)', y='Rented Bicycles', kind='bar', data=temperature, height=6, aspect=3, \n",
        "    palette='Blues_d', ci=None)"
      ],
      "execution_count": null,
      "outputs": [
        {
          "output_type": "execute_result",
          "data": {
            "text/plain": [
              "<seaborn.axisgrid.FacetGrid at 0x7f5f032c1ed0>"
            ]
          },
          "metadata": {},
          "execution_count": 9
        },
        {
          "output_type": "display_data",
          "data": {
            "image/png": "[encoded data removed]",
            "text/plain": [
              "<Figure size 1296x432 with 1 Axes>"
            ]
          },
          "metadata": {
            "needs_background": "light"
          }
        }
      ]
    },
    {
      "cell_type": "markdown",
      "metadata": {
        "id": "JDPtAjkkkSGy"
      },
      "source": [
        "Entre os 19 °C e 28 °C está a maior parte dos aluguéis, sendo realmente a faixa de temperatura mais agradável para a prática de atividades ao ar livre."
      ]
    },
    {
      "cell_type": "markdown",
      "metadata": {
        "id": "373Rp4kBt_IU"
      },
      "source": [
        "### Bicicletas alugadas por estação"
      ]
    },
    {
      "cell_type": "code",
      "metadata": {
        "id": "81lZNf9AuC8R",
        "colab": {
          "base_uri": "https://localhost:8080/",
          "height": 386
        },
        "outputId": "bad80116-033d-442f-eb25-05dad0122532"
      },
      "source": [
        "labels = ['Autumm', 'Spring', 'Summer', 'Winter']\n",
        "season = pd.DataFrame({'Season': labels, \n",
        "                       'Rented Bicycles': dataset.groupby('Seasons').sum()['Rented Bike Count']})\n",
        "\n",
        "sns.catplot(x='Season', y='Rented Bicycles', kind='bar', data=season, height=5, \n",
        "            aspect=1.5, ci=None, palette=sns.color_palette(\"tab10\"))"
      ],
      "execution_count": null,
      "outputs": [
        {
          "output_type": "execute_result",
          "data": {
            "text/plain": [
              "<seaborn.axisgrid.FacetGrid at 0x7f5efb156e50>"
            ]
          },
          "metadata": {},
          "execution_count": 10
        },
        {
          "output_type": "display_data",
          "data": {
            "image/png": "[encoded data removed]",
            "text/plain": [
              "<Figure size 540x360 with 1 Axes>"
            ]
          },
          "metadata": {
            "needs_background": "light"
          }
        }
      ]
    },
    {
      "cell_type": "code",
      "metadata": {
        "id": "sSIGRKHpA5ZX",
        "colab": {
          "base_uri": "https://localhost:8080/",
          "height": 252
        },
        "outputId": "af15d8cb-dcb7-4aa4-d0d5-a121fbb25471"
      },
      "source": [
        "fig1, ax1 = plt.subplots()\n",
        "ax1.pie(dataset.groupby('Seasons').sum()['Rented Bike Count'], \n",
        "        labels=labels, autopct='%1.1f%%', colors=sns.color_palette(\"tab10\"))\n",
        "ax1.axis('equal')\n",
        "plt.show()"
      ],
      "execution_count": null,
      "outputs": [
        {
          "output_type": "display_data",
          "data": {
            "image/png": "[encoded data removed]",
            "text/plain": [
              "<Figure size 432x288 with 1 Axes>"
            ]
          },
          "metadata": {}
        }
      ]
    },
    {
      "cell_type": "markdown",
      "metadata": {
        "id": "Wfv8vBDqlD-f"
      },
      "source": [
        "No verão ocorre a maior prevalência das locações. Em seguida temos o outono e a primavera (com pouca diferença entre si) e o inverno."
      ]
    },
    {
      "cell_type": "markdown",
      "metadata": {
        "id": "hBW_Q8LogYPY"
      },
      "source": [
        "### Quantidade média de bicicletas alugadas em feriados / dias úteis"
      ]
    },
    {
      "cell_type": "code",
      "metadata": {
        "colab": {
          "base_uri": "https://localhost:8080/",
          "height": 386
        },
        "id": "L05K5j6KgS48",
        "outputId": "2b6cc496-12b1-4772-daea-084ff6e3a79a"
      },
      "source": [
        "labels = ['Holiday', 'No Holiday']\n",
        "holiday = pd.DataFrame({'Holiday': labels, \n",
        "                       'Rented Bicycles': dataset.groupby('Holiday').sum()['Rented Bike Count'],\n",
        "                       'Num Days': dataset.groupby('Holiday').count()['Rented Bike Count']})\n",
        "\n",
        "holiday['Rented by Day'] = holiday['Rented Bicycles'] / holiday['Num Days']\n",
        "\n",
        "sns.catplot(x='Holiday', y='Rented by Day', kind='bar', data=holiday, height=5, \n",
        "            aspect=1.5, ci=None, palette=sns.color_palette(\"tab10\"))"
      ],
      "execution_count": null,
      "outputs": [
        {
          "output_type": "execute_result",
          "data": {
            "text/plain": [
              "<seaborn.axisgrid.FacetGrid at 0x7f5f03edde10>"
            ]
          },
          "metadata": {},
          "execution_count": 12
        },
        {
          "output_type": "display_data",
          "data": {
            "image/png": "[encoded data removed]",
            "text/plain": [
              "<Figure size 540x360 with 1 Axes>"
            ]
          },
          "metadata": {
            "needs_background": "light"
          }
        }
      ]
    },
    {
      "cell_type": "markdown",
      "metadata": {
        "id": "3AZg0dafl_Tx"
      },
      "source": [
        "Observa-se que há mais locações (em média) em dias úteis, confirmando a hipótese da utilização de bicicletas para locomoção até o trabalho."
      ]
    },
    {
      "cell_type": "markdown",
      "metadata": {
        "id": "zIyDrdjzJkRX"
      },
      "source": [
        "## Criação de Variáveis"
      ]
    },
    {
      "cell_type": "code",
      "metadata": {
        "id": "eCLzVRY0JrXU"
      },
      "source": [
        "# extracao do ano\n",
        "dataset['Year'] = pd.DatetimeIndex(dataset['Date']).year"
      ],
      "execution_count": null,
      "outputs": []
    },
    {
      "cell_type": "code",
      "metadata": {
        "id": "4pIz5nuyKbqt"
      },
      "source": [
        "# extracao do mes \n",
        "dataset['Month'] = pd.DatetimeIndex(dataset['Date']).day"
      ],
      "execution_count": null,
      "outputs": []
    },
    {
      "cell_type": "code",
      "metadata": {
        "id": "2SafI-d6LFJT"
      },
      "source": [
        "# extracao do dia\n",
        "dataset['Day'] = pd.DatetimeIndex(dataset['Date']).month"
      ],
      "execution_count": null,
      "outputs": []
    },
    {
      "cell_type": "code",
      "metadata": {
        "id": "2CtzmS-1Ml13"
      },
      "source": [
        "dataset.drop('Date', axis=1, inplace=True)"
      ],
      "execution_count": null,
      "outputs": []
    },
    {
      "cell_type": "code",
      "metadata": {
        "colab": {
          "base_uri": "https://localhost:8080/",
          "height": 343
        },
        "id": "kFpvzqG1Jnfr",
        "outputId": "09687747-d713-431f-bf88-549134f63d63"
      },
      "source": [
        "dataset.head()"
      ],
      "execution_count": null,
      "outputs": [
        {
          "output_type": "execute_result",
          "data": {
            "text/html": [
              "<div>\n",
              "<style scoped>\n",
              "    .dataframe tbody tr th:only-of-type {\n",
              "        vertical-align: middle;\n",
              "    }\n",
              "\n",
              "    .dataframe tbody tr th {\n",
              "        vertical-align: top;\n",
              "    }\n",
              "\n",
              "    .dataframe thead th {\n",
              "        text-align: right;\n",
              "    }\n",
              "</style>\n",
              "<table border=\"1\" class=\"dataframe\">\n",
              "  <thead>\n",
              "    <tr style=\"text-align: right;\">\n",
              "      <th></th>\n",
              "      <th>Rented Bike Count</th>\n",
              "      <th>Hour</th>\n",
              "      <th>Temperature(°C)</th>\n",
              "      <th>Humidity(%)</th>\n",
              "      <th>Wind speed (m/s)</th>\n",
              "      <th>Visibility (10m)</th>\n",
              "      <th>Dew point temperature(°C)</th>\n",
              "      <th>Solar Radiation (MJ/m2)</th>\n",
              "      <th>Rainfall(mm)</th>\n",
              "      <th>Snowfall (cm)</th>\n",
              "      <th>Seasons</th>\n",
              "      <th>Holiday</th>\n",
              "      <th>Functioning Day</th>\n",
              "      <th>Year</th>\n",
              "      <th>Month</th>\n",
              "      <th>Day</th>\n",
              "    </tr>\n",
              "  </thead>\n",
              "  <tbody>\n",
              "    <tr>\n",
              "      <th>0</th>\n",
              "      <td>254</td>\n",
              "      <td>0</td>\n",
              "      <td>-5.2</td>\n",
              "      <td>37</td>\n",
              "      <td>2.2</td>\n",
              "      <td>2000</td>\n",
              "      <td>-17.6</td>\n",
              "      <td>0.0</td>\n",
              "      <td>0.0</td>\n",
              "      <td>0.0</td>\n",
              "      <td>Winter</td>\n",
              "      <td>No Holiday</td>\n",
              "      <td>Yes</td>\n",
              "      <td>2017</td>\n",
              "      <td>12</td>\n",
              "      <td>1</td>\n",
              "    </tr>\n",
              "    <tr>\n",
              "      <th>1</th>\n",
              "      <td>204</td>\n",
              "      <td>1</td>\n",
              "      <td>-5.5</td>\n",
              "      <td>38</td>\n",
              "      <td>0.8</td>\n",
              "      <td>2000</td>\n",
              "      <td>-17.6</td>\n",
              "      <td>0.0</td>\n",
              "      <td>0.0</td>\n",
              "      <td>0.0</td>\n",
              "      <td>Winter</td>\n",
              "      <td>No Holiday</td>\n",
              "      <td>Yes</td>\n",
              "      <td>2017</td>\n",
              "      <td>12</td>\n",
              "      <td>1</td>\n",
              "    </tr>\n",
              "    <tr>\n",
              "      <th>2</th>\n",
              "      <td>173</td>\n",
              "      <td>2</td>\n",
              "      <td>-6.0</td>\n",
              "      <td>39</td>\n",
              "      <td>1.0</td>\n",
              "      <td>2000</td>\n",
              "      <td>-17.7</td>\n",
              "      <td>0.0</td>\n",
              "      <td>0.0</td>\n",
              "      <td>0.0</td>\n",
              "      <td>Winter</td>\n",
              "      <td>No Holiday</td>\n",
              "      <td>Yes</td>\n",
              "      <td>2017</td>\n",
              "      <td>12</td>\n",
              "      <td>1</td>\n",
              "    </tr>\n",
              "    <tr>\n",
              "      <th>3</th>\n",
              "      <td>107</td>\n",
              "      <td>3</td>\n",
              "      <td>-6.2</td>\n",
              "      <td>40</td>\n",
              "      <td>0.9</td>\n",
              "      <td>2000</td>\n",
              "      <td>-17.6</td>\n",
              "      <td>0.0</td>\n",
              "      <td>0.0</td>\n",
              "      <td>0.0</td>\n",
              "      <td>Winter</td>\n",
              "      <td>No Holiday</td>\n",
              "      <td>Yes</td>\n",
              "      <td>2017</td>\n",
              "      <td>12</td>\n",
              "      <td>1</td>\n",
              "    </tr>\n",
              "    <tr>\n",
              "      <th>4</th>\n",
              "      <td>78</td>\n",
              "      <td>4</td>\n",
              "      <td>-6.0</td>\n",
              "      <td>36</td>\n",
              "      <td>2.3</td>\n",
              "      <td>2000</td>\n",
              "      <td>-18.6</td>\n",
              "      <td>0.0</td>\n",
              "      <td>0.0</td>\n",
              "      <td>0.0</td>\n",
              "      <td>Winter</td>\n",
              "      <td>No Holiday</td>\n",
              "      <td>Yes</td>\n",
              "      <td>2017</td>\n",
              "      <td>12</td>\n",
              "      <td>1</td>\n",
              "    </tr>\n",
              "  </tbody>\n",
              "</table>\n",
              "</div>"
            ],
            "text/plain": [
              "   Rented Bike Count  Hour  Temperature(°C)  ...  Year  Month  Day\n",
              "0                254     0             -5.2  ...  2017     12    1\n",
              "1                204     1             -5.5  ...  2017     12    1\n",
              "2                173     2             -6.0  ...  2017     12    1\n",
              "3                107     3             -6.2  ...  2017     12    1\n",
              "4                 78     4             -6.0  ...  2017     12    1\n",
              "\n",
              "[5 rows x 16 columns]"
            ]
          },
          "metadata": {},
          "execution_count": 17
        }
      ]
    },
    {
      "cell_type": "markdown",
      "metadata": {
        "id": "kto-f0PTWG5a"
      },
      "source": [
        "## Pré-processamento de dados"
      ]
    },
    {
      "cell_type": "code",
      "metadata": {
        "id": "RZqWY4BVNv5r"
      },
      "source": [
        "X = dataset.iloc[:, 1:].values\n",
        "y = dataset.iloc[:, 0].values"
      ],
      "execution_count": null,
      "outputs": []
    },
    {
      "cell_type": "code",
      "metadata": {
        "id": "_fsBl4fBWGkI"
      },
      "source": [
        "from sklearn.preprocessing import OneHotEncoder, LabelEncoder\n",
        "from sklearn.compose import ColumnTransformer\n",
        "\n",
        "# conversao das estacoes de texto para numero\n",
        "ct = ColumnTransformer(transformers=[('encoder', OneHotEncoder(), [9])], remainder='passthrough')\n",
        "X = np.array(ct.fit_transform(X))"
      ],
      "execution_count": null,
      "outputs": []
    },
    {
      "cell_type": "code",
      "metadata": {
        "id": "yFJrJj4mb25r"
      },
      "source": [
        "# tratamento dos feriados / dias uteis\n",
        "le = LabelEncoder()\n",
        "X[:, 13] = le.fit_transform(X[:, 13])"
      ],
      "execution_count": null,
      "outputs": []
    },
    {
      "cell_type": "code",
      "metadata": {
        "id": "njlg-3lGcBhR"
      },
      "source": [
        "# tratamento dos dias de funcionamento\n",
        "X[:, 14] = le.fit_transform(X[:, 14])"
      ],
      "execution_count": null,
      "outputs": []
    },
    {
      "cell_type": "markdown",
      "metadata": {
        "id": "go887KBucumy"
      },
      "source": [
        "## Divisão dos dados entre treino e teste"
      ]
    },
    {
      "cell_type": "code",
      "metadata": {
        "id": "5j6ochlkE9E9"
      },
      "source": [
        "# como os dados seguem uma serie temporal, dividiu-se o conjunto de treino\n",
        "# no 70% inicial e o de teste no 30% final\n",
        "\n",
        "SPLIT = 0.7\n",
        "\n",
        "X_train = X[:int(X.shape[0] * SPLIT)]\n",
        "X_test = X[int(X.shape[0] * SPLIT):]\n",
        "y_train = y[:int(X.shape[0] * SPLIT)]\n",
        "y_test = y[int(X.shape[0] * SPLIT):]"
      ],
      "execution_count": null,
      "outputs": []
    },
    {
      "cell_type": "markdown",
      "metadata": {
        "id": "Mz2bHC3Yn-WI"
      },
      "source": [
        "## Modelo (XGBoost) "
      ]
    },
    {
      "cell_type": "code",
      "metadata": {
        "id": "rebMfHZ0gljR",
        "colab": {
          "base_uri": "https://localhost:8080/"
        },
        "outputId": "2c4e18b9-e2ce-4887-9173-d03b27197414"
      },
      "source": [
        "# lista de parametros de otimizacao\n",
        "#   n_estimators: quantidade de arvores\n",
        "#   learning_rate: na pratica, quanto cada arvore contribuira para a aprendizagem do modelo\n",
        "#   max_depth: profundidade maxima das arvores (ajuda a evitar overfitting)\n",
        "#   subsample: tamanho da amostra que cada arvore ira considerar (contribui para um modelo mais versatil e diverso)\n",
        "\n",
        "hyperparameter_space = {'n_estimators': [100, 120, 140, 170, 200],\n",
        "                        'learning_rate': [0.01, 0.03, 0.05, 0.07, 0.1],\n",
        "                        'max_depth':[4,5,6,7,8], \n",
        "                        'subsample':[0.25, 0.5, 0.75, 1]}\n",
        "\n",
        "from xgboost import XGBRegressor\n",
        "xgb_mod = XGBRegressor()\n",
        "\n",
        "\n",
        "# utilizacao de pesquisa randomica para a busca do melhor modelo\n",
        "#   n_iter: quantidade de modelos a serem testados\n",
        "#   scoring: metrica de avaliacao\n",
        "#   random_state: fixado para tornar os resultados reproduziveis\n",
        "#   n_jobs: nucleos para processamento paralelo (-1 utilza o maximo disponivel)\n",
        "#   cv (cross validation): util para detectar a capacidade de generalicao do modelo\n",
        "#   return_train_score: retorna o score do treinamento\n",
        "\n",
        "from sklearn.model_selection import RandomizedSearchCV\n",
        "rs = RandomizedSearchCV(xgb_mod, param_distributions=hyperparameter_space,\n",
        "                        n_iter=100, scoring=\"neg_mean_absolute_error\", random_state=0,\n",
        "                        n_jobs=-1, cv=5, return_train_score=True)\n",
        "\n",
        "rs.fit(X_train, y_train)"
      ],
      "execution_count": null,
      "outputs": [
        {
          "output_type": "stream",
          "name": "stdout",
          "text": [
            "[11:16:38] WARNING: /workspace/src/objective/regression_obj.cu:152: reg:linear is now deprecated in favor of reg:squarederror.\n"
          ]
        },
        {
          "output_type": "execute_result",
          "data": {
            "text/plain": [
              "RandomizedSearchCV(cv=5, error_score=nan,\n",
              "                   estimator=XGBRegressor(base_score=0.5, booster='gbtree',\n",
              "                                          colsample_bylevel=1,\n",
              "                                          colsample_bynode=1,\n",
              "                                          colsample_bytree=1, gamma=0,\n",
              "                                          importance_type='gain',\n",
              "                                          learning_rate=0.1, max_delta_step=0,\n",
              "                                          max_depth=3, min_child_weight=1,\n",
              "                                          missing=None, n_estimators=100,\n",
              "                                          n_jobs=1, nthread=None,\n",
              "                                          objective='reg:linear',\n",
              "                                          random_state=0, reg_alpha=...\n",
              "                                          seed=None, silent=None, subsample=1,\n",
              "                                          verbosity=1),\n",
              "                   iid='deprecated', n_iter=100, n_jobs=-1,\n",
              "                   param_distributions={'learning_rate': [0.01, 0.03, 0.05,\n",
              "                                                          0.07, 0.1],\n",
              "                                        'max_depth': [4, 5, 6, 7, 8],\n",
              "                                        'n_estimators': [100, 120, 140, 170,\n",
              "                                                         200],\n",
              "                                        'subsample': [0.25, 0.5, 0.75, 1]},\n",
              "                   pre_dispatch='2*n_jobs', random_state=0, refit=True,\n",
              "                   return_train_score=True, scoring='neg_mean_absolute_error',\n",
              "                   verbose=0)"
            ]
          },
          "metadata": {},
          "execution_count": 23
        }
      ]
    },
    {
      "cell_type": "code",
      "metadata": {
        "colab": {
          "base_uri": "https://localhost:8080/"
        },
        "id": "hbyzKQynaytP",
        "outputId": "54ae5b0a-b702-4dc0-831d-ab27ae72efcc"
      },
      "source": [
        "rs.best_params_"
      ],
      "execution_count": null,
      "outputs": [
        {
          "output_type": "execute_result",
          "data": {
            "text/plain": [
              "{'learning_rate': 0.1, 'max_depth': 4, 'n_estimators': 100, 'subsample': 1}"
            ]
          },
          "metadata": {},
          "execution_count": 24
        }
      ]
    },
    {
      "cell_type": "code",
      "metadata": {
        "colab": {
          "base_uri": "https://localhost:8080/"
        },
        "id": "l-qre7-5UVxl",
        "outputId": "fda35e30-0123-4286-80ee-2a4303afed69"
      },
      "source": [
        "rs.best_estimator_"
      ],
      "execution_count": null,
      "outputs": [
        {
          "output_type": "execute_result",
          "data": {
            "text/plain": [
              "XGBRegressor(base_score=0.5, booster='gbtree', colsample_bylevel=1,\n",
              "             colsample_bynode=1, colsample_bytree=1, gamma=0,\n",
              "             importance_type='gain', learning_rate=0.1, max_delta_step=0,\n",
              "             max_depth=4, min_child_weight=1, missing=None, n_estimators=100,\n",
              "             n_jobs=1, nthread=None, objective='reg:linear', random_state=0,\n",
              "             reg_alpha=0, reg_lambda=1, scale_pos_weight=1, seed=None,\n",
              "             silent=None, subsample=1, verbosity=1)"
            ]
          },
          "metadata": {},
          "execution_count": 25
        }
      ]
    },
    {
      "cell_type": "markdown",
      "metadata": {
        "id": "QJin-W-WKZrT"
      },
      "source": [
        "## Predição nos dados de treino"
      ]
    },
    {
      "cell_type": "code",
      "metadata": {
        "colab": {
          "base_uri": "https://localhost:8080/"
        },
        "id": "WZzac4WXUS1i",
        "outputId": "256eac48-a66e-418e-c568-3ab9aa16552c"
      },
      "source": [
        "# verifica os resultados da metrica de otimizacao dos modelos treinados com base nos dados de treino\n",
        "cvres = rs.cv_results_\n",
        "for mean_score, params in zip(cvres[\"mean_test_score\"], cvres[\"params\"]):\n",
        "  print(np.sqrt(-mean_score), params)"
      ],
      "execution_count": null,
      "outputs": [
        {
          "output_type": "stream",
          "name": "stdout",
          "text": [
            "14.988483757525206 {'subsample': 0.75, 'n_estimators': 140, 'max_depth': 8, 'learning_rate': 0.01}\n",
            "13.46906165015469 {'subsample': 0.75, 'n_estimators': 170, 'max_depth': 6, 'learning_rate': 0.05}\n",
            "13.652497172192108 {'subsample': 1, 'n_estimators': 100, 'max_depth': 8, 'learning_rate': 0.05}\n",
            "13.8537462151838 {'subsample': 0.5, 'n_estimators': 120, 'max_depth': 6, 'learning_rate': 0.1}\n",
            "13.82470738846197 {'subsample': 0.5, 'n_estimators': 100, 'max_depth': 7, 'learning_rate': 0.1}\n",
            "15.05163994676593 {'subsample': 1, 'n_estimators': 170, 'max_depth': 4, 'learning_rate': 0.01}\n",
            "13.938442251268064 {'subsample': 0.25, 'n_estimators': 200, 'max_depth': 4, 'learning_rate': 0.07}\n",
            "13.867377656155787 {'subsample': 0.5, 'n_estimators': 140, 'max_depth': 8, 'learning_rate': 0.1}\n",
            "13.638793435251129 {'subsample': 1, 'n_estimators': 200, 'max_depth': 6, 'learning_rate': 0.03}\n",
            "13.551965054337645 {'subsample': 0.5, 'n_estimators': 170, 'max_depth': 6, 'learning_rate': 0.03}\n",
            "13.545795338068457 {'subsample': 0.5, 'n_estimators': 100, 'max_depth': 6, 'learning_rate': 0.05}\n",
            "13.421209209772389 {'subsample': 0.75, 'n_estimators': 140, 'max_depth': 6, 'learning_rate': 0.05}\n",
            "13.617169310864265 {'subsample': 0.75, 'n_estimators': 140, 'max_depth': 8, 'learning_rate': 0.07}\n",
            "13.618880999360659 {'subsample': 0.5, 'n_estimators': 140, 'max_depth': 8, 'learning_rate': 0.05}\n",
            "13.701441003776226 {'subsample': 1, 'n_estimators': 140, 'max_depth': 7, 'learning_rate': 0.03}\n",
            "13.645497417208531 {'subsample': 0.5, 'n_estimators': 140, 'max_depth': 5, 'learning_rate': 0.07}\n",
            "14.273936773653517 {'subsample': 0.25, 'n_estimators': 140, 'max_depth': 7, 'learning_rate': 0.1}\n",
            "13.509782922673656 {'subsample': 1, 'n_estimators': 170, 'max_depth': 6, 'learning_rate': 0.07}\n",
            "13.411713255084376 {'subsample': 0.75, 'n_estimators': 170, 'max_depth': 6, 'learning_rate': 0.03}\n",
            "14.257749056514504 {'subsample': 0.5, 'n_estimators': 200, 'max_depth': 5, 'learning_rate': 0.01}\n",
            "13.562152982487666 {'subsample': 0.5, 'n_estimators': 120, 'max_depth': 4, 'learning_rate': 0.05}\n",
            "13.48059798670185 {'subsample': 0.75, 'n_estimators': 120, 'max_depth': 7, 'learning_rate': 0.07}\n",
            "13.485162386175382 {'subsample': 0.25, 'n_estimators': 100, 'max_depth': 6, 'learning_rate': 0.05}\n",
            "14.04701448112808 {'subsample': 0.25, 'n_estimators': 140, 'max_depth': 4, 'learning_rate': 0.03}\n",
            "15.684045585760424 {'subsample': 0.5, 'n_estimators': 120, 'max_depth': 6, 'learning_rate': 0.01}\n",
            "13.656506363422242 {'subsample': 0.75, 'n_estimators': 200, 'max_depth': 5, 'learning_rate': 0.1}\n",
            "16.613679161302628 {'subsample': 0.5, 'n_estimators': 100, 'max_depth': 5, 'learning_rate': 0.01}\n",
            "13.683759370828724 {'subsample': 1, 'n_estimators': 120, 'max_depth': 7, 'learning_rate': 0.07}\n",
            "14.13387410604598 {'subsample': 0.25, 'n_estimators': 200, 'max_depth': 8, 'learning_rate': 0.01}\n",
            "13.623453531163515 {'subsample': 0.5, 'n_estimators': 170, 'max_depth': 5, 'learning_rate': 0.05}\n",
            "14.013599780678433 {'subsample': 0.25, 'n_estimators': 140, 'max_depth': 5, 'learning_rate': 0.1}\n",
            "13.592554714328495 {'subsample': 0.75, 'n_estimators': 200, 'max_depth': 4, 'learning_rate': 0.03}\n",
            "13.728465806375455 {'subsample': 0.25, 'n_estimators': 120, 'max_depth': 5, 'learning_rate': 0.03}\n",
            "13.693664693421878 {'subsample': 1, 'n_estimators': 140, 'max_depth': 8, 'learning_rate': 0.03}\n",
            "13.529090650710515 {'subsample': 0.75, 'n_estimators': 170, 'max_depth': 7, 'learning_rate': 0.07}\n",
            "14.161528982878746 {'subsample': 0.25, 'n_estimators': 170, 'max_depth': 8, 'learning_rate': 0.1}\n",
            "13.384755475467887 {'subsample': 1, 'n_estimators': 140, 'max_depth': 4, 'learning_rate': 0.07}\n",
            "13.5652815547338 {'subsample': 1, 'n_estimators': 140, 'max_depth': 6, 'learning_rate': 0.1}\n",
            "13.791482151059324 {'subsample': 0.5, 'n_estimators': 170, 'max_depth': 6, 'learning_rate': 0.07}\n",
            "13.513954764767632 {'subsample': 0.75, 'n_estimators': 200, 'max_depth': 5, 'learning_rate': 0.05}\n",
            "13.596756907650732 {'subsample': 0.75, 'n_estimators': 100, 'max_depth': 5, 'learning_rate': 0.07}\n",
            "15.62737600890185 {'subsample': 0.75, 'n_estimators': 120, 'max_depth': 6, 'learning_rate': 0.01}\n",
            "13.364848751268024 {'subsample': 1, 'n_estimators': 100, 'max_depth': 4, 'learning_rate': 0.1}\n",
            "13.54318828158284 {'subsample': 0.5, 'n_estimators': 100, 'max_depth': 5, 'learning_rate': 0.05}\n",
            "14.149836670637903 {'subsample': 0.25, 'n_estimators': 200, 'max_depth': 7, 'learning_rate': 0.01}\n",
            "16.912128686230385 {'subsample': 0.5, 'n_estimators': 100, 'max_depth': 4, 'learning_rate': 0.01}\n",
            "13.535173681385574 {'subsample': 0.5, 'n_estimators': 170, 'max_depth': 4, 'learning_rate': 0.05}\n",
            "13.626179928499567 {'subsample': 0.5, 'n_estimators': 120, 'max_depth': 5, 'learning_rate': 0.07}\n",
            "13.993740884016066 {'subsample': 0.75, 'n_estimators': 200, 'max_depth': 4, 'learning_rate': 0.1}\n",
            "13.9793279048413 {'subsample': 0.75, 'n_estimators': 100, 'max_depth': 4, 'learning_rate': 0.03}\n",
            "13.717895251612946 {'subsample': 1, 'n_estimators': 100, 'max_depth': 7, 'learning_rate': 0.07}\n",
            "13.436140235412095 {'subsample': 0.75, 'n_estimators': 140, 'max_depth': 7, 'learning_rate': 0.03}\n",
            "13.565694508264842 {'subsample': 1, 'n_estimators': 100, 'max_depth': 6, 'learning_rate': 0.07}\n",
            "13.59022418401618 {'subsample': 0.25, 'n_estimators': 120, 'max_depth': 6, 'learning_rate': 0.03}\n",
            "13.657415770523263 {'subsample': 0.25, 'n_estimators': 170, 'max_depth': 5, 'learning_rate': 0.03}\n",
            "14.964052896353444 {'subsample': 0.25, 'n_estimators': 170, 'max_depth': 4, 'learning_rate': 0.01}\n",
            "13.467186503274426 {'subsample': 1, 'n_estimators': 120, 'max_depth': 5, 'learning_rate': 0.07}\n",
            "13.605901482067635 {'subsample': 0.5, 'n_estimators': 170, 'max_depth': 7, 'learning_rate': 0.03}\n",
            "13.639954332795611 {'subsample': 0.25, 'n_estimators': 120, 'max_depth': 5, 'learning_rate': 0.05}\n",
            "13.497170747468521 {'subsample': 0.75, 'n_estimators': 100, 'max_depth': 6, 'learning_rate': 0.07}\n",
            "13.936484524815484 {'subsample': 0.75, 'n_estimators': 200, 'max_depth': 7, 'learning_rate': 0.01}\n",
            "13.677283049170725 {'subsample': 0.25, 'n_estimators': 200, 'max_depth': 7, 'learning_rate': 0.05}\n",
            "13.6452539394613 {'subsample': 1, 'n_estimators': 120, 'max_depth': 8, 'learning_rate': 0.07}\n",
            "13.76575397766643 {'subsample': 0.5, 'n_estimators': 120, 'max_depth': 5, 'learning_rate': 0.1}\n",
            "13.613624267566948 {'subsample': 0.5, 'n_estimators': 100, 'max_depth': 4, 'learning_rate': 0.07}\n",
            "13.610141477701502 {'subsample': 0.25, 'n_estimators': 200, 'max_depth': 8, 'learning_rate': 0.03}\n",
            "15.604251846641851 {'subsample': 0.75, 'n_estimators': 140, 'max_depth': 4, 'learning_rate': 0.01}\n",
            "13.860156332545928 {'subsample': 0.5, 'n_estimators': 140, 'max_depth': 7, 'learning_rate': 0.1}\n",
            "13.46366545307792 {'subsample': 1, 'n_estimators': 140, 'max_depth': 7, 'learning_rate': 0.05}\n",
            "14.375718324385996 {'subsample': 1, 'n_estimators': 170, 'max_depth': 7, 'learning_rate': 0.01}\n",
            "13.55297337058059 {'subsample': 0.75, 'n_estimators': 100, 'max_depth': 6, 'learning_rate': 0.03}\n",
            "15.69162420374736 {'subsample': 0.5, 'n_estimators': 120, 'max_depth': 7, 'learning_rate': 0.01}\n",
            "13.677374444266214 {'subsample': 0.25, 'n_estimators': 100, 'max_depth': 6, 'learning_rate': 0.07}\n",
            "14.079337676502426 {'subsample': 0.25, 'n_estimators': 120, 'max_depth': 8, 'learning_rate': 0.1}\n",
            "13.68877835797611 {'subsample': 1, 'n_estimators': 170, 'max_depth': 7, 'learning_rate': 0.03}\n",
            "13.431173312691858 {'subsample': 0.75, 'n_estimators': 100, 'max_depth': 7, 'learning_rate': 0.07}\n",
            "13.569231970511991 {'subsample': 0.25, 'n_estimators': 120, 'max_depth': 7, 'learning_rate': 0.05}\n",
            "14.146740129085094 {'subsample': 0.25, 'n_estimators': 100, 'max_depth': 4, 'learning_rate': 0.03}\n",
            "13.7959279383335 {'subsample': 1, 'n_estimators': 140, 'max_depth': 8, 'learning_rate': 0.1}\n",
            "13.659549922056028 {'subsample': 1, 'n_estimators': 170, 'max_depth': 8, 'learning_rate': 0.05}\n",
            "13.64381167440763 {'subsample': 0.25, 'n_estimators': 100, 'max_depth': 4, 'learning_rate': 0.07}\n",
            "13.66525498652965 {'subsample': 1, 'n_estimators': 170, 'max_depth': 5, 'learning_rate': 0.05}\n",
            "13.611995393916482 {'subsample': 1, 'n_estimators': 170, 'max_depth': 7, 'learning_rate': 0.1}\n",
            "13.444460891740128 {'subsample': 1, 'n_estimators': 200, 'max_depth': 4, 'learning_rate': 0.05}\n",
            "13.628695291288905 {'subsample': 0.75, 'n_estimators': 140, 'max_depth': 5, 'learning_rate': 0.07}\n",
            "13.61394900917517 {'subsample': 0.75, 'n_estimators': 120, 'max_depth': 5, 'learning_rate': 0.07}\n",
            "13.625656271922518 {'subsample': 0.5, 'n_estimators': 100, 'max_depth': 5, 'learning_rate': 0.1}\n",
            "13.535926002554197 {'subsample': 0.5, 'n_estimators': 200, 'max_depth': 6, 'learning_rate': 0.03}\n",
            "13.823920678126568 {'subsample': 0.25, 'n_estimators': 140, 'max_depth': 6, 'learning_rate': 0.07}\n",
            "14.419679830453417 {'subsample': 0.75, 'n_estimators': 170, 'max_depth': 6, 'learning_rate': 0.01}\n",
            "13.673781730821831 {'subsample': 0.25, 'n_estimators': 100, 'max_depth': 5, 'learning_rate': 0.05}\n",
            "13.625925086401143 {'subsample': 0.75, 'n_estimators': 100, 'max_depth': 4, 'learning_rate': 0.1}\n",
            "13.705175595047654 {'subsample': 1, 'n_estimators': 200, 'max_depth': 7, 'learning_rate': 0.07}\n",
            "13.648808332580007 {'subsample': 0.25, 'n_estimators': 100, 'max_depth': 4, 'learning_rate': 0.05}\n",
            "13.665504716289016 {'subsample': 1, 'n_estimators': 200, 'max_depth': 7, 'learning_rate': 0.03}\n",
            "14.024729246654212 {'subsample': 0.25, 'n_estimators': 170, 'max_depth': 7, 'learning_rate': 0.07}\n",
            "14.165429686649759 {'subsample': 0.25, 'n_estimators': 200, 'max_depth': 6, 'learning_rate': 0.01}\n",
            "13.80086619332378 {'subsample': 0.25, 'n_estimators': 100, 'max_depth': 6, 'learning_rate': 0.1}\n",
            "16.71003528397334 {'subsample': 0.25, 'n_estimators': 100, 'max_depth': 7, 'learning_rate': 0.01}\n",
            "13.573340145665417 {'subsample': 0.25, 'n_estimators': 140, 'max_depth': 4, 'learning_rate': 0.05}\n"
          ]
        }
      ]
    },
    {
      "cell_type": "markdown",
      "metadata": {
        "id": "1uDJ54Pa8s9y"
      },
      "source": [
        "Como o esperado, as predições nos dados de treino estão bem próximas da realidade."
      ]
    },
    {
      "cell_type": "markdown",
      "metadata": {
        "id": "zTbc_JwTfM0p"
      },
      "source": [
        "## Predição nos dados de teste"
      ]
    },
    {
      "cell_type": "code",
      "metadata": {
        "id": "C4cv5W9SfRef"
      },
      "source": [
        "final_model = rs.best_estimator_\n",
        "y_pred = final_model.predict(X_test)"
      ],
      "execution_count": null,
      "outputs": []
    },
    {
      "cell_type": "markdown",
      "metadata": {
        "id": "8nX6Hj_XfbXI"
      },
      "source": [
        "## Performance do modelo nos dados de teste"
      ]
    },
    {
      "cell_type": "markdown",
      "metadata": {
        "id": "Z2-Ga2PYaJeH"
      },
      "source": [
        "### Erro Médio Absoluto"
      ]
    },
    {
      "cell_type": "code",
      "metadata": {
        "id": "hwcZgGh4Zm-5",
        "colab": {
          "base_uri": "https://localhost:8080/"
        },
        "outputId": "22b5e980-7a1b-46c9-c550-012534f6fc3d"
      },
      "source": [
        "from sklearn.metrics import mean_absolute_error\n",
        "\n",
        "mae = mean_absolute_error(y_test, y_pred)\n",
        "print(mae)"
      ],
      "execution_count": null,
      "outputs": [
        {
          "output_type": "stream",
          "name": "stdout",
          "text": [
            "262.97361700357004\n"
          ]
        }
      ]
    },
    {
      "cell_type": "markdown",
      "metadata": {
        "id": "_GoK6qwxaSJv"
      },
      "source": [
        "### Erro Quadrático Médio"
      ]
    },
    {
      "cell_type": "code",
      "metadata": {
        "id": "dxUzR4QoUvQt",
        "colab": {
          "base_uri": "https://localhost:8080/"
        },
        "outputId": "94fbe926-34f9-40c9-83d5-da6e0da56ed8"
      },
      "source": [
        "from sklearn.metrics import mean_squared_error\n",
        "\n",
        "mse = mean_squared_error(y_test, y_pred)\n",
        "rmse = np.sqrt(mse)\n",
        "print(rmse)"
      ],
      "execution_count": null,
      "outputs": [
        {
          "output_type": "stream",
          "name": "stdout",
          "text": [
            "374.4458808966614\n"
          ]
        }
      ]
    },
    {
      "cell_type": "markdown",
      "metadata": {
        "id": "CpFPIhQ596BE"
      },
      "source": [
        "Grande diferença do erro médio absoluto entre os dados de treino e teste.\n",
        "\n",
        "Aparentemente o modelo está apresentando overfitting.\n",
        "\n",
        "Visando solucionar isso tentou-se modelos mais simples (regressão linear e SVR) mas, após testes, apresentaram resultados piores.\n",
        "\n",
        "Outra abordagem é o aumento do volume de dados (o dataset atual possui 8760 registros).\n",
        "\n",
        "Observo que, ao remover variáveis (precipitação e queda de neve) que possuem pouca relação com os demais atributos, o modelo apresentou leve piora.\n",
        "\n",
        "Outro ponto interessante é que, com a remoção de outliers, o modelo piorou. Creio que alguns desses registros ajudam o modelo a abstrair melhor."
      ]
    },
    {
      "cell_type": "markdown",
      "metadata": {
        "id": "etRUO8j9ekr4"
      },
      "source": [
        "## Impacto das variáveis no modelo"
      ]
    },
    {
      "cell_type": "code",
      "metadata": {
        "id": "a7SDcmZlb8EZ"
      },
      "source": [
        "#sorted_idx = final_model.feature_importances_.argsort()\n",
        "#plt.barh(boston.feature_names[sorted_idx], \n",
        "#final_model.feature_importances_[sorted_idx]\n",
        "#feature_importance = feature_importance.sort_values('importance', ascending=False)"
      ],
      "execution_count": null,
      "outputs": []
    },
    {
      "cell_type": "code",
      "metadata": {
        "colab": {
          "base_uri": "https://localhost:8080/",
          "height": 746
        },
        "id": "KUn2BeYNZLis",
        "outputId": "9753d035-3f11-4dcd-8e33-6ebc1217d32d"
      },
      "source": [
        "features = ['Autumn', 'Spring','Summer','Winter', 'Hour', 'Temperature(°C)', 'Humidity(%)',\n",
        "       'Wind speed (m/s)', 'Visibility (10m)', 'Dew point temperature(°C)',\n",
        "       'Solar Radiation (MJ/m2)', 'Rainfall(mm)', 'Snowfall (cm)',\n",
        "       'Holiday', 'Functioning Day', 'Year', 'Month', 'Day']\n",
        "\n",
        "feature_importance = pd.DataFrame({'features': features, \n",
        "                                   'importance':final_model.feature_importances_})\n",
        "\n",
        "feature_importance = feature_importance.sort_values('importance', ascending=False)\n",
        "\n",
        "sns.catplot(x='importance', y='features', kind='bar', data=feature_importance, height=10, \n",
        "            aspect=1.2,  palette='Blues_d', ci=None)"
      ],
      "execution_count": null,
      "outputs": [
        {
          "output_type": "execute_result",
          "data": {
            "text/plain": [
              "<seaborn.axisgrid.FacetGrid at 0x7f5eea2ccc50>"
            ]
          },
          "metadata": {},
          "execution_count": 95
        },
        {
          "output_type": "display_data",
          "data": {
            "image/png": "[encoded data removed]",
            "text/plain": [
              "<Figure size 864x720 with 1 Axes>"
            ]
          },
          "metadata": {
            "needs_background": "light"
          }
        }
      ]
    },
    {
      "cell_type": "markdown",
      "metadata": {
        "id": "WrPDUIHFe8Uw"
      },
      "source": [
        "O modelo considera a temperatura a principal variável para predição. Radiação solar, hora e precipitação também são relevantes, o que realmente faz sentido pois estão entre os pricipais fatores a serem considerados na prática de atividades ao ar livre."
      ]
    },
    {
      "cell_type": "markdown",
      "metadata": {
        "id": "HQtOQpQDxyYc"
      },
      "source": [
        "## Realizando uma predição\n",
        "\n",
        "**Valores de entrada:**\n",
        "\n",
        "1. Estação: outono\n",
        "1. Hora: 7:00\n",
        "1. Temperatura (° C): 5\n",
        "1. Umidade (%): 20\n",
        "1. Velocidade do vento (m / s): 0.3\n",
        "1. Visibilidade (m): 1900\n",
        "1. Temperatura do ponto de orvalho (° C): -5\n",
        "1. Radiação solar (MJ / m2): 0.2\n",
        "1. Precipitação (mm): 0\n",
        "1. Queda de neve (cm): 0\n",
        "1. Feriado: não\n",
        "1. Dia de funcionamento: sim\n",
        "1. Ano: 2018\n",
        "1. Mes: novembro\n",
        "1. Dia: 5\n",
        "\n"
      ]
    },
    {
      "cell_type": "code",
      "metadata": {
        "id": "RTbEz24qxyOA",
        "colab": {
          "base_uri": "https://localhost:8080/"
        },
        "outputId": "969951d3-994e-4723-bbba-310533dbb8a9"
      },
      "source": [
        "pred = [1,0,0,0,7,5,20,0.3,1900,-5,0.2,0,0,1,1,2018,11,5]\n",
        "print(final_model.predict([pred]))"
      ],
      "execution_count": null,
      "outputs": [
        {
          "output_type": "stream",
          "name": "stdout",
          "text": [
            "[547.764]\n"
          ]
        }
      ]
    }
  ]
}