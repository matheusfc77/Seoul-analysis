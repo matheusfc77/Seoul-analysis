{
  "nbformat": 4,
  "nbformat_minor": 0,
  "metadata": {
    "colab": {
      "provenance": []
    },
    "kernelspec": {
      "name": "python3",
      "display_name": "Python 3"
    }
  },
  "cells": [
    {
      "cell_type": "markdown",
      "metadata": {
        "id": "sFpo5rx3T_gq"
      },
      "source": [
        "# Estudo de caso sobre bicicletas alugadas em Seul - Coreia do Sul\n",
        "\n",
        "Os dados foram coletados durante os anos de 2017 e 2018. Consistem em informações sobre o clima e data. O objetivo é prever a quantidade de bicicletas que serão alugadas nas condições propostas.\n",
        "\n",
        "Os dados podem ser obtidos em: <https://archive.ics.uci.edu/ml/datasets/Seoul+Bike+Sharing+Demand>\n",
        "\n",
        "---\n",
        "\n",
        "**Citações**\n",
        "\n",
        "[1] Dua, D. and Graff, C. (2019). UCI Machine Learning Repository [http://archive.ics.uci.edu/ml]. Irvine, CA: University of California, School of Information and Computer Science.\n",
        "\n",
        "[2] Sathishkumar V E, Jangwoo Park, and Yongyun Cho. 'Using data mining techniques for bike sharing demand prediction in metropolitan city.' Computer Communications, Vol.153, pp.353-366, March, 2020\n",
        "\n",
        "[3] Sathishkumar V E and Yongyun Cho. 'A rule-based model for Seoul Bike sharing demand prediction using weather data' European Journal of Remote Sensing, pp. 1-18, Feb, 2020\n"
      ]
    },
    {
      "cell_type": "markdown",
      "metadata": {
        "id": "w2asLWfxI4Ky"
      },
      "source": [
        "## Resumo\n",
        "* Importando as principais bibliotecas\n",
        "* Importando o conjunto de dados\n",
        "* Análise Exploratória\n",
        "* Criação de Variáveis\n",
        "* Pré-processamento de dados\n",
        "* Divisão dos dados entre treino e teste\n",
        "* Modelo (XGBoost)\n",
        "* Predição nos dados de treino\n",
        "* Predição nos dados de teste\n",
        "* Performance do modelo nos dados de teste\n",
        "* Impacto das variáveis no modelo\n",
        "* Realizando uma predição"
      ]
    },
    {
      "cell_type": "markdown",
      "metadata": {
        "id": "6lLtLmUFUf0y"
      },
      "source": [
        "## Importando as principais bibliotecas"
      ]
    },
    {
      "cell_type": "code",
      "metadata": {
        "id": "1Vkivm-kT2nc"
      },
      "source": [
        "import pandas as pd\n",
        "import numpy as np\n",
        "import matplotlib.pyplot as plt\n",
        "import seaborn as sns\n",
        "plt.style.use('seaborn')\n",
        "sns.set_theme(style=\"darkgrid\")"
      ],
      "execution_count": 1,
      "outputs": []
    },
    {
      "cell_type": "markdown",
      "metadata": {
        "id": "EbWH7ebdUqzf"
      },
      "source": [
        "## Importando o conjunto de dados"
      ]
    },
    {
      "cell_type": "code",
      "metadata": {
        "id": "_E-KpmX8F4cv"
      },
      "source": [
        "dataset = pd.read_csv(\n",
        "    'https://archive.ics.uci.edu/ml/machine-learning-databases/00560/SeoulBikeData.csv', \n",
        "    encoding='ISO-8859-1')"
      ],
      "execution_count": 2,
      "outputs": []
    },
    {
      "cell_type": "code",
      "metadata": {
        "colab": {
          "base_uri": "https://localhost:8080/",
          "height": 392
        },
        "id": "2pYuxAFPfSYK",
        "outputId": "5b6db067-f315-41db-d44b-387561038ead"
      },
      "source": [
        "dataset.head()"
      ],
      "execution_count": 3,
      "outputs": [
        {
          "output_type": "execute_result",
          "data": {
            "text/plain": [
              "         Date  Rented Bike Count  Hour  Temperature(°C)  Humidity(%)  \\\n",
              "0  01/12/2017                254     0             -5.2           37   \n",
              "1  01/12/2017                204     1             -5.5           38   \n",
              "2  01/12/2017                173     2             -6.0           39   \n",
              "3  01/12/2017                107     3             -6.2           40   \n",
              "4  01/12/2017                 78     4             -6.0           36   \n",
              "\n",
              "   Wind speed (m/s)  Visibility (10m)  Dew point temperature(°C)  \\\n",
              "0               2.2              2000                      -17.6   \n",
              "1               0.8              2000                      -17.6   \n",
              "2               1.0              2000                      -17.7   \n",
              "3               0.9              2000                      -17.6   \n",
              "4               2.3              2000                      -18.6   \n",
              "\n",
              "   Solar Radiation (MJ/m2)  Rainfall(mm)  Snowfall (cm) Seasons     Holiday  \\\n",
              "0                      0.0           0.0            0.0  Winter  No Holiday   \n",
              "1                      0.0           0.0            0.0  Winter  No Holiday   \n",
              "2                      0.0           0.0            0.0  Winter  No Holiday   \n",
              "3                      0.0           0.0            0.0  Winter  No Holiday   \n",
              "4                      0.0           0.0            0.0  Winter  No Holiday   \n",
              "\n",
              "  Functioning Day  \n",
              "0             Yes  \n",
              "1             Yes  \n",
              "2             Yes  \n",
              "3             Yes  \n",
              "4             Yes  "
            ],
            "text/html": [
              "\n",
              "  <div id=\"df-ff2fb52f-8d00-4060-bb0e-219138c46651\">\n",
              "    <div class=\"colab-df-container\">\n",
              "      <div>\n",
              "<style scoped>\n",
              "    .dataframe tbody tr th:only-of-type {\n",
              "        vertical-align: middle;\n",
              "    }\n",
              "\n",
              "    .dataframe tbody tr th {\n",
              "        vertical-align: top;\n",
              "    }\n",
              "\n",
              "    .dataframe thead th {\n",
              "        text-align: right;\n",
              "    }\n",
              "</style>\n",
              "<table border=\"1\" class=\"dataframe\">\n",
              "  <thead>\n",
              "    <tr style=\"text-align: right;\">\n",
              "      <th></th>\n",
              "      <th>Date</th>\n",
              "      <th>Rented Bike Count</th>\n",
              "      <th>Hour</th>\n",
              "      <th>Temperature(°C)</th>\n",
              "      <th>Humidity(%)</th>\n",
              "      <th>Wind speed (m/s)</th>\n",
              "      <th>Visibility (10m)</th>\n",
              "      <th>Dew point temperature(°C)</th>\n",
              "      <th>Solar Radiation (MJ/m2)</th>\n",
              "      <th>Rainfall(mm)</th>\n",
              "      <th>Snowfall (cm)</th>\n",
              "      <th>Seasons</th>\n",
              "      <th>Holiday</th>\n",
              "      <th>Functioning Day</th>\n",
              "    </tr>\n",
              "  </thead>\n",
              "  <tbody>\n",
              "    <tr>\n",
              "      <th>0</th>\n",
              "      <td>01/12/2017</td>\n",
              "      <td>254</td>\n",
              "      <td>0</td>\n",
              "      <td>-5.2</td>\n",
              "      <td>37</td>\n",
              "      <td>2.2</td>\n",
              "      <td>2000</td>\n",
              "      <td>-17.6</td>\n",
              "      <td>0.0</td>\n",
              "      <td>0.0</td>\n",
              "      <td>0.0</td>\n",
              "      <td>Winter</td>\n",
              "      <td>No Holiday</td>\n",
              "      <td>Yes</td>\n",
              "    </tr>\n",
              "    <tr>\n",
              "      <th>1</th>\n",
              "      <td>01/12/2017</td>\n",
              "      <td>204</td>\n",
              "      <td>1</td>\n",
              "      <td>-5.5</td>\n",
              "      <td>38</td>\n",
              "      <td>0.8</td>\n",
              "      <td>2000</td>\n",
              "      <td>-17.6</td>\n",
              "      <td>0.0</td>\n",
              "      <td>0.0</td>\n",
              "      <td>0.0</td>\n",
              "      <td>Winter</td>\n",
              "      <td>No Holiday</td>\n",
              "      <td>Yes</td>\n",
              "    </tr>\n",
              "    <tr>\n",
              "      <th>2</th>\n",
              "      <td>01/12/2017</td>\n",
              "      <td>173</td>\n",
              "      <td>2</td>\n",
              "      <td>-6.0</td>\n",
              "      <td>39</td>\n",
              "      <td>1.0</td>\n",
              "      <td>2000</td>\n",
              "      <td>-17.7</td>\n",
              "      <td>0.0</td>\n",
              "      <td>0.0</td>\n",
              "      <td>0.0</td>\n",
              "      <td>Winter</td>\n",
              "      <td>No Holiday</td>\n",
              "      <td>Yes</td>\n",
              "    </tr>\n",
              "    <tr>\n",
              "      <th>3</th>\n",
              "      <td>01/12/2017</td>\n",
              "      <td>107</td>\n",
              "      <td>3</td>\n",
              "      <td>-6.2</td>\n",
              "      <td>40</td>\n",
              "      <td>0.9</td>\n",
              "      <td>2000</td>\n",
              "      <td>-17.6</td>\n",
              "      <td>0.0</td>\n",
              "      <td>0.0</td>\n",
              "      <td>0.0</td>\n",
              "      <td>Winter</td>\n",
              "      <td>No Holiday</td>\n",
              "      <td>Yes</td>\n",
              "    </tr>\n",
              "    <tr>\n",
              "      <th>4</th>\n",
              "      <td>01/12/2017</td>\n",
              "      <td>78</td>\n",
              "      <td>4</td>\n",
              "      <td>-6.0</td>\n",
              "      <td>36</td>\n",
              "      <td>2.3</td>\n",
              "      <td>2000</td>\n",
              "      <td>-18.6</td>\n",
              "      <td>0.0</td>\n",
              "      <td>0.0</td>\n",
              "      <td>0.0</td>\n",
              "      <td>Winter</td>\n",
              "      <td>No Holiday</td>\n",
              "      <td>Yes</td>\n",
              "    </tr>\n",
              "  </tbody>\n",
              "</table>\n",
              "</div>\n",
              "      <button class=\"colab-df-convert\" onclick=\"convertToInteractive('df-ff2fb52f-8d00-4060-bb0e-219138c46651')\"\n",
              "              title=\"Convert this dataframe to an interactive table.\"\n",
              "              style=\"display:none;\">\n",
              "        \n",
              "  <svg xmlns=\"http://www.w3.org/2000/svg\" height=\"24px\"viewBox=\"0 0 24 24\"\n",
              "       width=\"24px\">\n",
              "    <path d=\"M0 0h24v24H0V0z\" fill=\"none\"/>\n",
              "    <path d=\"M18.56 5.44l.94 2.06.94-2.06 2.06-.94-2.06-.94-.94-2.06-.94 2.06-2.06.94zm-11 1L8.5 8.5l.94-2.06 2.06-.94-2.06-.94L8.5 2.5l-.94 2.06-2.06.94zm10 10l.94 2.06.94-2.06 2.06-.94-2.06-.94-.94-2.06-.94 2.06-2.06.94z\"/><path d=\"M17.41 7.96l-1.37-1.37c-.4-.4-.92-.59-1.43-.59-.52 0-1.04.2-1.43.59L10.3 9.45l-7.72 7.72c-.78.78-.78 2.05 0 2.83L4 21.41c.39.39.9.59 1.41.59.51 0 1.02-.2 1.41-.59l7.78-7.78 2.81-2.81c.8-.78.8-2.07 0-2.86zM5.41 20L4 18.59l7.72-7.72 1.47 1.35L5.41 20z\"/>\n",
              "  </svg>\n",
              "      </button>\n",
              "      \n",
              "  <style>\n",
              "    .colab-df-container {\n",
              "      display:flex;\n",
              "      flex-wrap:wrap;\n",
              "      gap: 12px;\n",
              "    }\n",
              "\n",
              "    .colab-df-convert {\n",
              "      background-color: #E8F0FE;\n",
              "      border: none;\n",
              "      border-radius: 50%;\n",
              "      cursor: pointer;\n",
              "      display: none;\n",
              "      fill: #1967D2;\n",
              "      height: 32px;\n",
              "      padding: 0 0 0 0;\n",
              "      width: 32px;\n",
              "    }\n",
              "\n",
              "    .colab-df-convert:hover {\n",
              "      background-color: #E2EBFA;\n",
              "      box-shadow: 0px 1px 2px rgba(60, 64, 67, 0.3), 0px 1px 3px 1px rgba(60, 64, 67, 0.15);\n",
              "      fill: #174EA6;\n",
              "    }\n",
              "\n",
              "    [theme=dark] .colab-df-convert {\n",
              "      background-color: #3B4455;\n",
              "      fill: #D2E3FC;\n",
              "    }\n",
              "\n",
              "    [theme=dark] .colab-df-convert:hover {\n",
              "      background-color: #434B5C;\n",
              "      box-shadow: 0px 1px 3px 1px rgba(0, 0, 0, 0.15);\n",
              "      filter: drop-shadow(0px 1px 2px rgba(0, 0, 0, 0.3));\n",
              "      fill: #FFFFFF;\n",
              "    }\n",
              "  </style>\n",
              "\n",
              "      <script>\n",
              "        const buttonEl =\n",
              "          document.querySelector('#df-ff2fb52f-8d00-4060-bb0e-219138c46651 button.colab-df-convert');\n",
              "        buttonEl.style.display =\n",
              "          google.colab.kernel.accessAllowed ? 'block' : 'none';\n",
              "\n",
              "        async function convertToInteractive(key) {\n",
              "          const element = document.querySelector('#df-ff2fb52f-8d00-4060-bb0e-219138c46651');\n",
              "          const dataTable =\n",
              "            await google.colab.kernel.invokeFunction('convertToInteractive',\n",
              "                                                     [key], {});\n",
              "          if (!dataTable) return;\n",
              "\n",
              "          const docLinkHtml = 'Like what you see? Visit the ' +\n",
              "            '<a target=\"_blank\" href=https://colab.research.google.com/notebooks/data_table.ipynb>data table notebook</a>'\n",
              "            + ' to learn more about interactive tables.';\n",
              "          element.innerHTML = '';\n",
              "          dataTable['output_type'] = 'display_data';\n",
              "          await google.colab.output.renderOutput(dataTable, element);\n",
              "          const docLink = document.createElement('div');\n",
              "          docLink.innerHTML = docLinkHtml;\n",
              "          element.appendChild(docLink);\n",
              "        }\n",
              "      </script>\n",
              "    </div>\n",
              "  </div>\n",
              "  "
            ]
          },
          "metadata": {},
          "execution_count": 3
        }
      ]
    },
    {
      "cell_type": "markdown",
      "metadata": {
        "id": "1bSUk54l4esl"
      },
      "source": [
        "## Análise Exploratória"
      ]
    },
    {
      "cell_type": "markdown",
      "metadata": {
        "id": "GlPHMclkovcX"
      },
      "source": [
        "### Há valores nulos?"
      ]
    },
    {
      "cell_type": "code",
      "metadata": {
        "colab": {
          "base_uri": "https://localhost:8080/"
        },
        "id": "TlQehQPDFJ9c",
        "outputId": "7453b528-6381-44bf-8ddf-6802018c992b"
      },
      "source": [
        "dataset.isnull().sum()"
      ],
      "execution_count": 4,
      "outputs": [
        {
          "output_type": "execute_result",
          "data": {
            "text/plain": [
              "Date                         0\n",
              "Rented Bike Count            0\n",
              "Hour                         0\n",
              "Temperature(°C)              0\n",
              "Humidity(%)                  0\n",
              "Wind speed (m/s)             0\n",
              "Visibility (10m)             0\n",
              "Dew point temperature(°C)    0\n",
              "Solar Radiation (MJ/m2)      0\n",
              "Rainfall(mm)                 0\n",
              "Snowfall (cm)                0\n",
              "Seasons                      0\n",
              "Holiday                      0\n",
              "Functioning Day              0\n",
              "dtype: int64"
            ]
          },
          "metadata": {},
          "execution_count": 4
        }
      ]
    },
    {
      "cell_type": "markdown",
      "metadata": {
        "id": "3np-dCMVfuep"
      },
      "source": [
        "### Resumo dos dados"
      ]
    },
    {
      "cell_type": "code",
      "metadata": {
        "colab": {
          "base_uri": "https://localhost:8080/",
          "height": 379
        },
        "id": "PydkwTJRFRUn",
        "outputId": "dc6b7f28-fd4e-48c6-cdd9-6c8a3a244a5e"
      },
      "source": [
        "dataset.describe()"
      ],
      "execution_count": 5,
      "outputs": [
        {
          "output_type": "execute_result",
          "data": {
            "text/plain": [
              "       Rented Bike Count         Hour  Temperature(°C)  Humidity(%)  \\\n",
              "count        8760.000000  8760.000000      8760.000000  8760.000000   \n",
              "mean          704.602055    11.500000        12.882922    58.226256   \n",
              "std           644.997468     6.922582        11.944825    20.362413   \n",
              "min             0.000000     0.000000       -17.800000     0.000000   \n",
              "25%           191.000000     5.750000         3.500000    42.000000   \n",
              "50%           504.500000    11.500000        13.700000    57.000000   \n",
              "75%          1065.250000    17.250000        22.500000    74.000000   \n",
              "max          3556.000000    23.000000        39.400000    98.000000   \n",
              "\n",
              "       Wind speed (m/s)  Visibility (10m)  Dew point temperature(°C)  \\\n",
              "count       8760.000000       8760.000000                8760.000000   \n",
              "mean           1.724909       1436.825799                   4.073813   \n",
              "std            1.036300        608.298712                  13.060369   \n",
              "min            0.000000         27.000000                 -30.600000   \n",
              "25%            0.900000        940.000000                  -4.700000   \n",
              "50%            1.500000       1698.000000                   5.100000   \n",
              "75%            2.300000       2000.000000                  14.800000   \n",
              "max            7.400000       2000.000000                  27.200000   \n",
              "\n",
              "       Solar Radiation (MJ/m2)  Rainfall(mm)  Snowfall (cm)  \n",
              "count              8760.000000   8760.000000    8760.000000  \n",
              "mean                  0.569111      0.148687       0.075068  \n",
              "std                   0.868746      1.128193       0.436746  \n",
              "min                   0.000000      0.000000       0.000000  \n",
              "25%                   0.000000      0.000000       0.000000  \n",
              "50%                   0.010000      0.000000       0.000000  \n",
              "75%                   0.930000      0.000000       0.000000  \n",
              "max                   3.520000     35.000000       8.800000  "
            ],
            "text/html": [
              "\n",
              "  <div id=\"df-1f97bfa4-d70a-4ade-83af-f2b1c2f004f2\">\n",
              "    <div class=\"colab-df-container\">\n",
              "      <div>\n",
              "<style scoped>\n",
              "    .dataframe tbody tr th:only-of-type {\n",
              "        vertical-align: middle;\n",
              "    }\n",
              "\n",
              "    .dataframe tbody tr th {\n",
              "        vertical-align: top;\n",
              "    }\n",
              "\n",
              "    .dataframe thead th {\n",
              "        text-align: right;\n",
              "    }\n",
              "</style>\n",
              "<table border=\"1\" class=\"dataframe\">\n",
              "  <thead>\n",
              "    <tr style=\"text-align: right;\">\n",
              "      <th></th>\n",
              "      <th>Rented Bike Count</th>\n",
              "      <th>Hour</th>\n",
              "      <th>Temperature(°C)</th>\n",
              "      <th>Humidity(%)</th>\n",
              "      <th>Wind speed (m/s)</th>\n",
              "      <th>Visibility (10m)</th>\n",
              "      <th>Dew point temperature(°C)</th>\n",
              "      <th>Solar Radiation (MJ/m2)</th>\n",
              "      <th>Rainfall(mm)</th>\n",
              "      <th>Snowfall (cm)</th>\n",
              "    </tr>\n",
              "  </thead>\n",
              "  <tbody>\n",
              "    <tr>\n",
              "      <th>count</th>\n",
              "      <td>8760.000000</td>\n",
              "      <td>8760.000000</td>\n",
              "      <td>8760.000000</td>\n",
              "      <td>8760.000000</td>\n",
              "      <td>8760.000000</td>\n",
              "      <td>8760.000000</td>\n",
              "      <td>8760.000000</td>\n",
              "      <td>8760.000000</td>\n",
              "      <td>8760.000000</td>\n",
              "      <td>8760.000000</td>\n",
              "    </tr>\n",
              "    <tr>\n",
              "      <th>mean</th>\n",
              "      <td>704.602055</td>\n",
              "      <td>11.500000</td>\n",
              "      <td>12.882922</td>\n",
              "      <td>58.226256</td>\n",
              "      <td>1.724909</td>\n",
              "      <td>1436.825799</td>\n",
              "      <td>4.073813</td>\n",
              "      <td>0.569111</td>\n",
              "      <td>0.148687</td>\n",
              "      <td>0.075068</td>\n",
              "    </tr>\n",
              "    <tr>\n",
              "      <th>std</th>\n",
              "      <td>644.997468</td>\n",
              "      <td>6.922582</td>\n",
              "      <td>11.944825</td>\n",
              "      <td>20.362413</td>\n",
              "      <td>1.036300</td>\n",
              "      <td>608.298712</td>\n",
              "      <td>13.060369</td>\n",
              "      <td>0.868746</td>\n",
              "      <td>1.128193</td>\n",
              "      <td>0.436746</td>\n",
              "    </tr>\n",
              "    <tr>\n",
              "      <th>min</th>\n",
              "      <td>0.000000</td>\n",
              "      <td>0.000000</td>\n",
              "      <td>-17.800000</td>\n",
              "      <td>0.000000</td>\n",
              "      <td>0.000000</td>\n",
              "      <td>27.000000</td>\n",
              "      <td>-30.600000</td>\n",
              "      <td>0.000000</td>\n",
              "      <td>0.000000</td>\n",
              "      <td>0.000000</td>\n",
              "    </tr>\n",
              "    <tr>\n",
              "      <th>25%</th>\n",
              "      <td>191.000000</td>\n",
              "      <td>5.750000</td>\n",
              "      <td>3.500000</td>\n",
              "      <td>42.000000</td>\n",
              "      <td>0.900000</td>\n",
              "      <td>940.000000</td>\n",
              "      <td>-4.700000</td>\n",
              "      <td>0.000000</td>\n",
              "      <td>0.000000</td>\n",
              "      <td>0.000000</td>\n",
              "    </tr>\n",
              "    <tr>\n",
              "      <th>50%</th>\n",
              "      <td>504.500000</td>\n",
              "      <td>11.500000</td>\n",
              "      <td>13.700000</td>\n",
              "      <td>57.000000</td>\n",
              "      <td>1.500000</td>\n",
              "      <td>1698.000000</td>\n",
              "      <td>5.100000</td>\n",
              "      <td>0.010000</td>\n",
              "      <td>0.000000</td>\n",
              "      <td>0.000000</td>\n",
              "    </tr>\n",
              "    <tr>\n",
              "      <th>75%</th>\n",
              "      <td>1065.250000</td>\n",
              "      <td>17.250000</td>\n",
              "      <td>22.500000</td>\n",
              "      <td>74.000000</td>\n",
              "      <td>2.300000</td>\n",
              "      <td>2000.000000</td>\n",
              "      <td>14.800000</td>\n",
              "      <td>0.930000</td>\n",
              "      <td>0.000000</td>\n",
              "      <td>0.000000</td>\n",
              "    </tr>\n",
              "    <tr>\n",
              "      <th>max</th>\n",
              "      <td>3556.000000</td>\n",
              "      <td>23.000000</td>\n",
              "      <td>39.400000</td>\n",
              "      <td>98.000000</td>\n",
              "      <td>7.400000</td>\n",
              "      <td>2000.000000</td>\n",
              "      <td>27.200000</td>\n",
              "      <td>3.520000</td>\n",
              "      <td>35.000000</td>\n",
              "      <td>8.800000</td>\n",
              "    </tr>\n",
              "  </tbody>\n",
              "</table>\n",
              "</div>\n",
              "      <button class=\"colab-df-convert\" onclick=\"convertToInteractive('df-1f97bfa4-d70a-4ade-83af-f2b1c2f004f2')\"\n",
              "              title=\"Convert this dataframe to an interactive table.\"\n",
              "              style=\"display:none;\">\n",
              "        \n",
              "  <svg xmlns=\"http://www.w3.org/2000/svg\" height=\"24px\"viewBox=\"0 0 24 24\"\n",
              "       width=\"24px\">\n",
              "    <path d=\"M0 0h24v24H0V0z\" fill=\"none\"/>\n",
              "    <path d=\"M18.56 5.44l.94 2.06.94-2.06 2.06-.94-2.06-.94-.94-2.06-.94 2.06-2.06.94zm-11 1L8.5 8.5l.94-2.06 2.06-.94-2.06-.94L8.5 2.5l-.94 2.06-2.06.94zm10 10l.94 2.06.94-2.06 2.06-.94-2.06-.94-.94-2.06-.94 2.06-2.06.94z\"/><path d=\"M17.41 7.96l-1.37-1.37c-.4-.4-.92-.59-1.43-.59-.52 0-1.04.2-1.43.59L10.3 9.45l-7.72 7.72c-.78.78-.78 2.05 0 2.83L4 21.41c.39.39.9.59 1.41.59.51 0 1.02-.2 1.41-.59l7.78-7.78 2.81-2.81c.8-.78.8-2.07 0-2.86zM5.41 20L4 18.59l7.72-7.72 1.47 1.35L5.41 20z\"/>\n",
              "  </svg>\n",
              "      </button>\n",
              "      \n",
              "  <style>\n",
              "    .colab-df-container {\n",
              "      display:flex;\n",
              "      flex-wrap:wrap;\n",
              "      gap: 12px;\n",
              "    }\n",
              "\n",
              "    .colab-df-convert {\n",
              "      background-color: #E8F0FE;\n",
              "      border: none;\n",
              "      border-radius: 50%;\n",
              "      cursor: pointer;\n",
              "      display: none;\n",
              "      fill: #1967D2;\n",
              "      height: 32px;\n",
              "      padding: 0 0 0 0;\n",
              "      width: 32px;\n",
              "    }\n",
              "\n",
              "    .colab-df-convert:hover {\n",
              "      background-color: #E2EBFA;\n",
              "      box-shadow: 0px 1px 2px rgba(60, 64, 67, 0.3), 0px 1px 3px 1px rgba(60, 64, 67, 0.15);\n",
              "      fill: #174EA6;\n",
              "    }\n",
              "\n",
              "    [theme=dark] .colab-df-convert {\n",
              "      background-color: #3B4455;\n",
              "      fill: #D2E3FC;\n",
              "    }\n",
              "\n",
              "    [theme=dark] .colab-df-convert:hover {\n",
              "      background-color: #434B5C;\n",
              "      box-shadow: 0px 1px 3px 1px rgba(0, 0, 0, 0.15);\n",
              "      filter: drop-shadow(0px 1px 2px rgba(0, 0, 0, 0.3));\n",
              "      fill: #FFFFFF;\n",
              "    }\n",
              "  </style>\n",
              "\n",
              "      <script>\n",
              "        const buttonEl =\n",
              "          document.querySelector('#df-1f97bfa4-d70a-4ade-83af-f2b1c2f004f2 button.colab-df-convert');\n",
              "        buttonEl.style.display =\n",
              "          google.colab.kernel.accessAllowed ? 'block' : 'none';\n",
              "\n",
              "        async function convertToInteractive(key) {\n",
              "          const element = document.querySelector('#df-1f97bfa4-d70a-4ade-83af-f2b1c2f004f2');\n",
              "          const dataTable =\n",
              "            await google.colab.kernel.invokeFunction('convertToInteractive',\n",
              "                                                     [key], {});\n",
              "          if (!dataTable) return;\n",
              "\n",
              "          const docLinkHtml = 'Like what you see? Visit the ' +\n",
              "            '<a target=\"_blank\" href=https://colab.research.google.com/notebooks/data_table.ipynb>data table notebook</a>'\n",
              "            + ' to learn more about interactive tables.';\n",
              "          element.innerHTML = '';\n",
              "          dataTable['output_type'] = 'display_data';\n",
              "          await google.colab.output.renderOutput(dataTable, element);\n",
              "          const docLink = document.createElement('div');\n",
              "          docLink.innerHTML = docLinkHtml;\n",
              "          element.appendChild(docLink);\n",
              "        }\n",
              "      </script>\n",
              "    </div>\n",
              "  </div>\n",
              "  "
            ]
          },
          "metadata": {},
          "execution_count": 5
        }
      ]
    },
    {
      "cell_type": "markdown",
      "metadata": {
        "id": "G-3jEJvfOLfY"
      },
      "source": [
        "### Histogramas das variáveis numéricas"
      ]
    },
    {
      "cell_type": "code",
      "metadata": {
        "id": "QPrZX8mlIBhP",
        "colab": {
          "base_uri": "https://localhost:8080/",
          "height": 876
        },
        "outputId": "261e6d74-6251-45be-82c0-827b5ba9f55c"
      },
      "source": [
        "dataset.hist(bins=50, figsize=(20,15))\n",
        "plt.show()"
      ],
      "execution_count": 6,
      "outputs": [
        {
          "output_type": "display_data",
          "data": {
            "text/plain": [
              "<Figure size 1440x1080 with 12 Axes>"
            ],
            "image/png": "[encoded data removed]"
          },
          "metadata": {}
        }
      ]
    },
    {
      "cell_type": "markdown",
      "metadata": {
        "id": "-kmk2ALrPA5z"
      },
      "source": [
        "### Correlações das variáveis numéricas"
      ]
    },
    {
      "cell_type": "code",
      "metadata": {
        "colab": {
          "base_uri": "https://localhost:8080/",
          "height": 647
        },
        "id": "SxrV6dveWVzn",
        "outputId": "99b8d20e-ba16-43f0-a895-b109d87e2fbc"
      },
      "source": [
        "dt_corr = dataset.corr()\n",
        "dt_mask = np.zeros_like(dt_corr, dtype=np.bool)\n",
        "dt_mask[np.triu_indices_from(dt_mask)] = True\n",
        "fig, ax = plt.subplots(figsize=(10, 7))\n",
        "pl = sns.heatmap(dt_corr, mask=dt_mask, cmap= \"coolwarm\", vmax=.5, vmin=-.5, center=0, linewidths=.5,\n",
        "                 cbar_kws={\"shrink\": 0.6})\n",
        "plt.show()"
      ],
      "execution_count": 7,
      "outputs": [
        {
          "output_type": "stream",
          "name": "stderr",
          "text": [
            "<ipython-input-7-1b51de9efbe1>:2: DeprecationWarning: `np.bool` is a deprecated alias for the builtin `bool`. To silence this warning, use `bool` by itself. Doing this will not modify any behavior and is safe. If you specifically wanted the numpy scalar type, use `np.bool_` here.\n",
            "Deprecated in NumPy 1.20; for more details and guidance: https://numpy.org/devdocs/release/1.20.0-notes.html#deprecations\n",
            "  dt_mask = np.zeros_like(dt_corr, dtype=np.bool)\n"
          ]
        },
        {
          "output_type": "display_data",
          "data": {
            "text/plain": [
              "<Figure size 720x504 with 2 Axes>"
            ],
            "image/png": "[encoded data removed]"
          },
          "metadata": {}
        }
      ]
    },
    {
      "cell_type": "markdown",
      "metadata": {
        "id": "J0xlTtjfQvW7"
      },
      "source": [
        "Alta correlação entre a quantidade de bicicletas alugadas e a temperatura. Pouca correlação entre precipitação e neve com as demais variáveis.\n"
      ]
    },
    {
      "cell_type": "markdown",
      "metadata": {
        "id": "pArAVQi95YIC"
      },
      "source": [
        "### Bicicletas alugadas por hora"
      ]
    },
    {
      "cell_type": "code",
      "metadata": {
        "id": "HR-hquTd4jeT",
        "colab": {
          "base_uri": "https://localhost:8080/",
          "height": 454
        },
        "outputId": "af6cc291-adca-4602-a81a-2d748ac627cd"
      },
      "source": [
        "hour = pd.DataFrame({'Hour': [i for i in range(24)], \n",
        "                     'Rented Bicycles': dataset.groupby('Hour').sum()['Rented Bike Count']})\n",
        "\n",
        "sns.catplot(x='Hour', y='Rented Bicycles', kind='bar', data=hour, height=6, aspect=1.8, \n",
        "    palette='Blues_d', ci=None)"
      ],
      "execution_count": 8,
      "outputs": [
        {
          "output_type": "execute_result",
          "data": {
            "text/plain": [
              "<seaborn.axisgrid.FacetGrid at 0x7f1aba436940>"
            ]
          },
          "metadata": {},
          "execution_count": 8
        },
        {
          "output_type": "display_data",
          "data": {
            "text/plain": [
              "<Figure size 777.6x432 with 1 Axes>"
            ],
            "image/png": "[encoded data removed]"
          },
          "metadata": {}
        }
      ]
    },
    {
      "cell_type": "markdown",
      "metadata": {
        "id": "CZw6IV7WjcHA"
      },
      "source": [
        "Há picos às 8h e 18h. Uma causa provável é o início e fim do horário comercial, em que muitas pessoas utilizam bicicletas para se locomover até o trabalho."
      ]
    },
    {
      "cell_type": "markdown",
      "metadata": {
        "id": "bIqgMspWY7yV"
      },
      "source": [
        "### Bicicletas alugadas por temperatura"
      ]
    },
    {
      "cell_type": "code",
      "metadata": {
        "colab": {
          "base_uri": "https://localhost:8080/",
          "height": 413
        },
        "id": "AajFb2c-ZFLY",
        "outputId": "cf8fa0a1-f98e-4388-bd51-81e264afa70e"
      },
      "source": [
        "temperature = pd.DataFrame({'Temperature': dataset.groupby('Temperature(°C)').sum()['Rented Bike Count'].index, \n",
        "                            'Rented Bicycles': dataset.groupby('Temperature(°C)').sum()['Rented Bike Count'].values})\n",
        "\n",
        "temperature['Temperature (Int)'] = temperature.Temperature.map(lambda t: round(t))\n",
        "\n",
        "sns.catplot(x='Temperature (Int)', y='Rented Bicycles', kind='bar', data=temperature, height=6, aspect=3, \n",
        "    palette='Blues_d', ci=None)"
      ],
      "execution_count": 9,
      "outputs": [
        {
          "output_type": "execute_result",
          "data": {
            "text/plain": [
              "<seaborn.axisgrid.FacetGrid at 0x7f1abae02850>"
            ]
          },
          "metadata": {},
          "execution_count": 9
        },
        {
          "output_type": "display_data",
          "data": {
            "text/plain": [
              "<Figure size 1296x432 with 1 Axes>"
            ],
            "image/png": "[encoded data removed]"
          },
          "metadata": {}
        }
      ]
    },
    {
      "cell_type": "markdown",
      "metadata": {
        "id": "JDPtAjkkkSGy"
      },
      "source": [
        "Entre os 19 °C e 28 °C está a maior parte dos aluguéis, sendo realmente a faixa de temperatura mais agradável para a prática de atividades ao ar livre."
      ]
    },
    {
      "cell_type": "markdown",
      "metadata": {
        "id": "373Rp4kBt_IU"
      },
      "source": [
        "### Bicicletas alugadas por estação"
      ]
    },
    {
      "cell_type": "code",
      "metadata": {
        "id": "81lZNf9AuC8R",
        "colab": {
          "base_uri": "https://localhost:8080/",
          "height": 382
        },
        "outputId": "24d7dc0c-6904-4b6f-9568-dec8291a304e"
      },
      "source": [
        "labels = ['Autumm', 'Spring', 'Summer', 'Winter']\n",
        "season = pd.DataFrame({'Season': labels, \n",
        "                       'Rented Bicycles': dataset.groupby('Seasons').sum()['Rented Bike Count']})\n",
        "\n",
        "sns.catplot(x='Season', y='Rented Bicycles', kind='bar', data=season, height=5, \n",
        "            aspect=1.5, ci=None, palette=sns.color_palette(\"tab10\"))"
      ],
      "execution_count": 10,
      "outputs": [
        {
          "output_type": "execute_result",
          "data": {
            "text/plain": [
              "<seaborn.axisgrid.FacetGrid at 0x7f1abaa1fb50>"
            ]
          },
          "metadata": {},
          "execution_count": 10
        },
        {
          "output_type": "display_data",
          "data": {
            "text/plain": [
              "<Figure size 540x360 with 1 Axes>"
            ],
            "image/png": "[encoded data removed]"
          },
          "metadata": {}
        }
      ]
    },
    {
      "cell_type": "code",
      "metadata": {
        "id": "sSIGRKHpA5ZX",
        "colab": {
          "base_uri": "https://localhost:8080/",
          "height": 332
        },
        "outputId": "c51dfc24-9032-473b-f264-23df673bc1a0"
      },
      "source": [
        "fig1, ax1 = plt.subplots()\n",
        "ax1.pie(dataset.groupby('Seasons').sum()['Rented Bike Count'], \n",
        "        labels=labels, autopct='%1.1f%%', colors=sns.color_palette(\"tab10\"))\n",
        "ax1.axis('equal')\n",
        "plt.show()"
      ],
      "execution_count": 11,
      "outputs": [
        {
          "output_type": "display_data",
          "data": {
            "text/plain": [
              "<Figure size 576x396 with 1 Axes>"
            ],
            "image/png": "[encoded data removed]"
          },
          "metadata": {}
        }
      ]
    },
    {
      "cell_type": "markdown",
      "metadata": {
        "id": "Wfv8vBDqlD-f"
      },
      "source": [
        "No verão ocorre a maior prevalência das locações. Em seguida temos o outono e a primavera (com pouca diferença entre si) e o inverno."
      ]
    },
    {
      "cell_type": "markdown",
      "metadata": {
        "id": "hBW_Q8LogYPY"
      },
      "source": [
        "### Quantidade média de bicicletas alugadas em feriados / dias úteis"
      ]
    },
    {
      "cell_type": "code",
      "metadata": {
        "colab": {
          "base_uri": "https://localhost:8080/",
          "height": 382
        },
        "id": "L05K5j6KgS48",
        "outputId": "41cf4a15-fef2-4870-e091-daffa06f5256"
      },
      "source": [
        "labels = ['Holiday', 'No Holiday']\n",
        "holiday = pd.DataFrame({'Holiday': labels, \n",
        "                       'Rented Bicycles': dataset.groupby('Holiday').sum()['Rented Bike Count'],\n",
        "                       'Num Days': dataset.groupby('Holiday').count()['Rented Bike Count']})\n",
        "\n",
        "holiday['Rented by Day'] = holiday['Rented Bicycles'] / holiday['Num Days']\n",
        "\n",
        "sns.catplot(x='Holiday', y='Rented by Day', kind='bar', data=holiday, height=5, \n",
        "            aspect=1.5, ci=None, palette=sns.color_palette(\"tab10\"))"
      ],
      "execution_count": 12,
      "outputs": [
        {
          "output_type": "execute_result",
          "data": {
            "text/plain": [
              "<seaborn.axisgrid.FacetGrid at 0x7f1abb07ddf0>"
            ]
          },
          "metadata": {},
          "execution_count": 12
        },
        {
          "output_type": "display_data",
          "data": {
            "text/plain": [
              "<Figure size 540x360 with 1 Axes>"
            ],
            "image/png": "[encoded data removed]"
          },
          "metadata": {}
        }
      ]
    },
    {
      "cell_type": "markdown",
      "metadata": {
        "id": "3AZg0dafl_Tx"
      },
      "source": [
        "Observa-se que há mais locações (em média) em dias úteis, confirmando a hipótese da utilização de bicicletas para locomoção até o trabalho."
      ]
    },
    {
      "cell_type": "markdown",
      "metadata": {
        "id": "zIyDrdjzJkRX"
      },
      "source": [
        "## Criação de Variáveis"
      ]
    },
    {
      "cell_type": "markdown",
      "source": [
        "### Variáveis Temporais"
      ],
      "metadata": {
        "id": "OZ-5VAhXP6cM"
      }
    },
    {
      "cell_type": "code",
      "metadata": {
        "id": "eCLzVRY0JrXU"
      },
      "source": [
        "# extracao do ano\n",
        "dataset['Year'] = pd.DatetimeIndex(dataset['Date']).year"
      ],
      "execution_count": 13,
      "outputs": []
    },
    {
      "cell_type": "code",
      "metadata": {
        "id": "4pIz5nuyKbqt"
      },
      "source": [
        "# extracao do mes \n",
        "dataset['Month'] = pd.DatetimeIndex(dataset['Date']).day"
      ],
      "execution_count": 14,
      "outputs": []
    },
    {
      "cell_type": "code",
      "metadata": {
        "id": "2SafI-d6LFJT"
      },
      "source": [
        "# extracao do dia\n",
        "dataset['Day'] = pd.DatetimeIndex(dataset['Date']).month"
      ],
      "execution_count": 15,
      "outputs": []
    },
    {
      "cell_type": "code",
      "metadata": {
        "id": "2CtzmS-1Ml13"
      },
      "source": [
        "dataset.drop('Date', axis=1, inplace=True)"
      ],
      "execution_count": 16,
      "outputs": []
    },
    {
      "cell_type": "markdown",
      "source": [
        "### Variáveis Tranformação Raiz Cúbica\n",
        "\n",
        "Tem como objetivo alterar a distribuição das colunas com valores muito parecidos. Isso dará ao modelo pontes de corte mais representativos para detecção dos padrões"
      ],
      "metadata": {
        "id": "flHqQqxGP8xL"
      }
    },
    {
      "cell_type": "code",
      "source": [
        "dataset['cbrt_snowfall'] = np.cbrt(dataset['Snowfall (cm)'])\n",
        "dataset['cbrt_rainfall'] = np.cbrt(dataset['Rainfall(mm)'])\n",
        "dataset['cbrt_visibility'] = np.cbrt(dataset['Visibility (10m)'])\n",
        "dataset['cbrt_solar_rad'] = np.cbrt(dataset['Solar Radiation (MJ/m2)'])"
      ],
      "metadata": {
        "id": "zyCwnGDG9x7e"
      },
      "execution_count": 17,
      "outputs": []
    },
    {
      "cell_type": "code",
      "metadata": {
        "colab": {
          "base_uri": "https://localhost:8080/",
          "height": 876
        },
        "id": "kFpvzqG1Jnfr",
        "outputId": "fbf5bd14-ab20-4d2b-ca62-f251ab8d50fd"
      },
      "source": [
        "columns = [\n",
        "    'Snowfall (cm)', 'cbrt_snowfall', 'Rainfall(mm)', 'cbrt_rainfall', 'Visibility (10m)', \n",
        "    'cbrt_visibility', 'Solar Radiation (MJ/m2)', 'cbrt_solar_rad'\n",
        "]\n",
        "\n",
        "dataset[columns].hist(bins=50, figsize=(20,15))\n",
        "plt.show()"
      ],
      "execution_count": 18,
      "outputs": [
        {
          "output_type": "display_data",
          "data": {
            "text/plain": [
              "<Figure size 1440x1080 with 9 Axes>"
            ],
            "image/png": "[encoded data removed]"
          },
          "metadata": {}
        }
      ]
    },
    {
      "cell_type": "code",
      "source": [
        "dataset.drop(\n",
        "    ['Snowfall (cm)', 'Rainfall(mm)', 'Visibility (10m)', 'Solar Radiation (MJ/m2)'], \n",
        "    axis=1, \n",
        "    inplace=True\n",
        ")"
      ],
      "metadata": {
        "id": "emZdCSTjRXLc"
      },
      "execution_count": 19,
      "outputs": []
    },
    {
      "cell_type": "markdown",
      "metadata": {
        "id": "kto-f0PTWG5a"
      },
      "source": [
        "## Pré-processamento de dados"
      ]
    },
    {
      "cell_type": "code",
      "metadata": {
        "id": "RZqWY4BVNv5r"
      },
      "source": [
        "X = dataset.iloc[:, 1:].values\n",
        "y = dataset.iloc[:, 0].values"
      ],
      "execution_count": 20,
      "outputs": []
    },
    {
      "cell_type": "code",
      "metadata": {
        "id": "_fsBl4fBWGkI"
      },
      "source": [
        "from sklearn.preprocessing import OneHotEncoder, LabelEncoder\n",
        "from sklearn.compose import ColumnTransformer\n",
        "\n",
        "# conversao das estacoes de texto para numero\n",
        "ct = ColumnTransformer(transformers=[('encoder', OneHotEncoder(), [5])], remainder='passthrough')\n",
        "X = np.array(ct.fit_transform(X))"
      ],
      "execution_count": 21,
      "outputs": []
    },
    {
      "cell_type": "code",
      "metadata": {
        "id": "yFJrJj4mb25r"
      },
      "source": [
        "# tratamento dos feriados / dias uteis\n",
        "le = LabelEncoder()\n",
        "X[:, 9] = le.fit_transform(X[:, 9])"
      ],
      "execution_count": 22,
      "outputs": []
    },
    {
      "cell_type": "code",
      "metadata": {
        "id": "njlg-3lGcBhR"
      },
      "source": [
        "# tratamento dos dias de funcionamento\n",
        "X[:, 10] = le.fit_transform(X[:, 10])"
      ],
      "execution_count": 23,
      "outputs": []
    },
    {
      "cell_type": "markdown",
      "metadata": {
        "id": "go887KBucumy"
      },
      "source": [
        "## Divisão dos dados entre treino e teste"
      ]
    },
    {
      "cell_type": "code",
      "metadata": {
        "id": "5j6ochlkE9E9"
      },
      "source": [
        "# como os dados seguem uma serie temporal, dividiu-se o conjunto de treino\n",
        "# no 70% inicial e o de teste no 30% final\n",
        "\n",
        "SPLIT = 0.7\n",
        "\n",
        "X_train = X[:int(X.shape[0] * SPLIT)]\n",
        "X_test = X[int(X.shape[0] * SPLIT):]\n",
        "y_train = y[:int(X.shape[0] * SPLIT)]\n",
        "y_test = y[int(X.shape[0] * SPLIT):]"
      ],
      "execution_count": 24,
      "outputs": []
    },
    {
      "cell_type": "markdown",
      "source": [
        "## Modelo (XGBoost) "
      ],
      "metadata": {
        "id": "A3lZ2BxYRyXM"
      }
    },
    {
      "cell_type": "code",
      "source": [
        "!pip install scikit-optimize"
      ],
      "metadata": {
        "colab": {
          "base_uri": "https://localhost:8080/"
        },
        "id": "lBJPCD9XBdzL",
        "outputId": "85ffe04b-9355-412e-f6e3-d68be16a855c"
      },
      "execution_count": 25,
      "outputs": [
        {
          "output_type": "stream",
          "name": "stdout",
          "text": [
            "Looking in indexes: https://pypi.org/simple, https://us-python.pkg.dev/colab-wheels/public/simple/\n",
            "Collecting scikit-optimize\n",
            "  Downloading scikit_optimize-0.9.0-py2.py3-none-any.whl (100 kB)\n",
            "\u001b[K     |████████████████████████████████| 100 kB 3.7 MB/s \n",
            "\u001b[?25hRequirement already satisfied: numpy>=1.13.3 in /usr/local/lib/python3.8/dist-packages (from scikit-optimize) (1.21.6)\n",
            "Collecting pyaml>=16.9\n",
            "  Downloading pyaml-21.10.1-py2.py3-none-any.whl (24 kB)\n",
            "Requirement already satisfied: joblib>=0.11 in /usr/local/lib/python3.8/dist-packages (from scikit-optimize) (1.2.0)\n",
            "Requirement already satisfied: scikit-learn>=0.20.0 in /usr/local/lib/python3.8/dist-packages (from scikit-optimize) (1.0.2)\n",
            "Requirement already satisfied: scipy>=0.19.1 in /usr/local/lib/python3.8/dist-packages (from scikit-optimize) (1.7.3)\n",
            "Requirement already satisfied: PyYAML in /usr/local/lib/python3.8/dist-packages (from pyaml>=16.9->scikit-optimize) (6.0)\n",
            "Requirement already satisfied: threadpoolctl>=2.0.0 in /usr/local/lib/python3.8/dist-packages (from scikit-learn>=0.20.0->scikit-optimize) (3.1.0)\n",
            "Installing collected packages: pyaml, scikit-optimize\n",
            "Successfully installed pyaml-21.10.1 scikit-optimize-0.9.0\n"
          ]
        }
      ]
    },
    {
      "cell_type": "code",
      "source": [
        "import math\n",
        "from sklearn.metrics import mean_squared_error, mean_absolute_error\n",
        "from xgboost import XGBRegressor\n",
        "\n",
        "\n",
        "SPLIT = 0.7\n",
        "\n",
        "X_train_2 = X_train[:int(X_train.shape[0] * SPLIT)]\n",
        "X_val = X_train[int(X_train.shape[0] * SPLIT):]\n",
        "y_train_2 = y_train[:int(X_train.shape[0] * SPLIT)]\n",
        "y_val = y_train[int(X_train.shape[0] * SPLIT):]\n",
        "\n",
        "\n",
        "def tune_xgb(params):\n",
        "\n",
        "    n_estimators, learning_rate, max_depth, subsample = params\n",
        "\n",
        "    mdl = XGBRegressor(\n",
        "        n_estimators=n_estimators,\n",
        "        learning_rate=learning_rate, \n",
        "        max_depth=max_depth,\n",
        "        subsample=subsample,\n",
        "        random_state=0\n",
        "    )\n",
        "\n",
        "    mdl.fit(X_train_2, y_train_2)\n",
        "    y_pred = mdl.predict(X_val)\n",
        "    mae = mean_absolute_error(y_val, y_pred)\n",
        "\n",
        "    print(\"\\nModel Result:\\n\\tParams: {}\\n\\tMAE: {}\\n\".format(str(params), str(mae)))\n",
        "    \n",
        "    return mae"
      ],
      "metadata": {
        "id": "vwQTxWowBgzJ"
      },
      "execution_count": 26,
      "outputs": []
    },
    {
      "cell_type": "code",
      "source": [
        "params = {\n",
        "    'seed': 0,                                                    # semente aleatoria. Definida para tornar os resultados reproduziveis\n",
        "    'verbose': True,                                              # opcao para visualizar os detalhes do treinamento\n",
        "    'n_calls_tuning': 20,                                         # numero de chamadas do otimizador bayesiano\n",
        "    'mdl_params':                                                 # paramentros de otimizacao do modelo\n",
        "        [\n",
        "            (500, 1000),                                                 \n",
        "            (1e-3, 1e-2, 'log-uniform'),\n",
        "            (3, 5),\n",
        "            (.3, 1)\n",
        "        ]                                             \n",
        "} "
      ],
      "metadata": {
        "id": "RW4tAG6uDGSU"
      },
      "execution_count": 27,
      "outputs": []
    },
    {
      "cell_type": "code",
      "source": [
        "from skopt import gp_minimize\n",
        "res_mdl = gp_minimize(\n",
        "    tune_xgb, \n",
        "    params['mdl_params'], \n",
        "    random_state=params['seed'], \n",
        "    verbose=params['verbose'], \n",
        "    n_calls=params['n_calls_tuning']\n",
        ")"
      ],
      "metadata": {
        "colab": {
          "base_uri": "https://localhost:8080/"
        },
        "id": "T7Y9yOXhJx1s",
        "outputId": "84bed35a-05e9-4d9d-e984-71fb5470d966"
      },
      "execution_count": 28,
      "outputs": [
        {
          "output_type": "stream",
          "name": "stdout",
          "text": [
            "Iteration No: 1 started. Evaluating function at random point.\n",
            "[20:02:29] WARNING: /workspace/src/objective/regression_obj.cu:152: reg:linear is now deprecated in favor of reg:squarederror.\n",
            "\n",
            "Model Result:\n",
            "\tParams: [796, 0.006986597893216493, 5, 0.893076217148888]\n",
            "\tMAE: 325.1946977408036\n",
            "\n",
            "Iteration No: 1 ended. Evaluation done at random point.\n",
            "Time taken: 4.2595\n",
            "Function value obtained: 325.1947\n",
            "Current minimum: 325.1947\n",
            "Iteration No: 2 started. Evaluating function at random point.\n",
            "[20:02:34] WARNING: /workspace/src/objective/regression_obj.cu:152: reg:linear is now deprecated in favor of reg:squarederror.\n",
            "\n",
            "Model Result:\n",
            "\tParams: [812, 0.002423157857285798, 4, 0.3396990841222102]\n",
            "\tMAE: 371.84069450212564\n",
            "\n",
            "Iteration No: 2 ended. Evaluation done at random point.\n",
            "Time taken: 4.6786\n",
            "Function value obtained: 371.8407\n",
            "Current minimum: 325.1947\n",
            "Iteration No: 3 started. Evaluating function at random point.\n",
            "[20:02:38] WARNING: /workspace/src/objective/regression_obj.cu:152: reg:linear is now deprecated in favor of reg:squarederror.\n",
            "\n",
            "Model Result:\n",
            "\tParams: [636, 0.003003759223085158, 5, 0.6359840206625402]\n",
            "\tMAE: 370.07303482138593\n",
            "\n",
            "Iteration No: 3 ended. Evaluation done at random point.\n",
            "Time taken: 6.6463\n",
            "Function value obtained: 370.0730\n",
            "Current minimum: 325.1947\n",
            "Iteration No: 4 started. Evaluating function at random point.\n",
            "[20:02:45] WARNING: /workspace/src/objective/regression_obj.cu:152: reg:linear is now deprecated in favor of reg:squarederror.\n",
            "\n",
            "Model Result:\n",
            "\tParams: [696, 0.0068561255769800915, 4, 0.7537203104358381]\n",
            "\tMAE: 328.494272630111\n",
            "\n",
            "Iteration No: 4 ended. Evaluation done at random point.\n",
            "Time taken: 5.5971\n",
            "Function value obtained: 328.4943\n",
            "Current minimum: 325.1947\n",
            "Iteration No: 5 started. Evaluating function at random point.\n",
            "[20:02:51] WARNING: /workspace/src/objective/regression_obj.cu:152: reg:linear is now deprecated in favor of reg:squarederror.\n",
            "\n",
            "Model Result:\n",
            "\tParams: [684, 0.009060562467991657, 3, 0.9090610808509056]\n",
            "\tMAE: 327.6911213286545\n",
            "\n",
            "Iteration No: 5 ended. Evaluation done at random point.\n",
            "Time taken: 4.2968\n",
            "Function value obtained: 327.6911\n",
            "Current minimum: 325.1947\n",
            "Iteration No: 6 started. Evaluating function at random point.\n",
            "[20:02:55] WARNING: /workspace/src/objective/regression_obj.cu:152: reg:linear is now deprecated in favor of reg:squarederror.\n",
            "\n",
            "Model Result:\n",
            "\tParams: [737, 0.006322819033590648, 4, 0.7752156710832723]\n",
            "\tMAE: 329.867161230419\n",
            "\n",
            "Iteration No: 6 ended. Evaluation done at random point.\n",
            "Time taken: 2.9377\n",
            "Function value obtained: 329.8672\n",
            "Current minimum: 325.1947\n",
            "Iteration No: 7 started. Evaluating function at random point.\n",
            "[20:02:58] WARNING: /workspace/src/objective/regression_obj.cu:152: reg:linear is now deprecated in favor of reg:squarederror.\n",
            "\n",
            "Model Result:\n",
            "\tParams: [860, 0.003819616775589123, 4, 0.8310309370256501]\n",
            "\tMAE: 342.3024014322654\n",
            "\n",
            "Iteration No: 7 ended. Evaluation done at random point.\n",
            "Time taken: 3.3984\n",
            "Function value obtained: 342.3024\n",
            "Current minimum: 325.1947\n",
            "Iteration No: 8 started. Evaluating function at random point.\n",
            "[20:03:01] WARNING: /workspace/src/objective/regression_obj.cu:152: reg:linear is now deprecated in favor of reg:squarederror.\n",
            "\n",
            "Model Result:\n",
            "\tParams: [553, 0.0029757772507264775, 3, 0.8158427239902708]\n",
            "\tMAE: 417.4475101470947\n",
            "\n",
            "Iteration No: 8 ended. Evaluation done at random point.\n",
            "Time taken: 1.6146\n",
            "Function value obtained: 417.4475\n",
            "Current minimum: 325.1947\n",
            "Iteration No: 9 started. Evaluating function at random point.\n",
            "[20:03:03] WARNING: /workspace/src/objective/regression_obj.cu:152: reg:linear is now deprecated in favor of reg:squarederror.\n",
            "\n",
            "Model Result:\n",
            "\tParams: [608, 0.0013652688246543468, 4, 0.4047724070285782]\n",
            "\tMAE: 547.8461426506872\n",
            "\n",
            "Iteration No: 9 ended. Evaluation done at random point.\n",
            "Time taken: 2.5709\n",
            "Function value obtained: 547.8461\n",
            "Current minimum: 325.1947\n",
            "Iteration No: 10 started. Evaluating function at random point.\n",
            "[20:03:05] WARNING: /workspace/src/objective/regression_obj.cu:152: reg:linear is now deprecated in favor of reg:squarederror.\n",
            "\n",
            "Model Result:\n",
            "\tParams: [611, 0.0024349440200234778, 5, 0.6149649929378593]\n",
            "\tMAE: 407.7656204451685\n",
            "\n",
            "Iteration No: 10 ended. Evaluation done at random point.\n",
            "Time taken: 3.9384\n",
            "Function value obtained: 407.7656\n",
            "Current minimum: 325.1947\n",
            "Iteration No: 11 started. Searching for the next optimal point.\n",
            "[20:03:09] WARNING: /workspace/src/objective/regression_obj.cu:152: reg:linear is now deprecated in favor of reg:squarederror.\n",
            "\n",
            "Model Result:\n",
            "\tParams: [1000, 0.01, 5, 0.3]\n",
            "\tMAE: 318.2177609938642\n",
            "\n",
            "Iteration No: 11 ended. Search finished for the next optimal point.\n",
            "Time taken: 5.3047\n",
            "Function value obtained: 318.2178\n",
            "Current minimum: 318.2178\n",
            "Iteration No: 12 started. Searching for the next optimal point.\n",
            "[20:03:15] WARNING: /workspace/src/objective/regression_obj.cu:152: reg:linear is now deprecated in favor of reg:squarederror.\n",
            "\n",
            "Model Result:\n",
            "\tParams: [658, 0.01, 5, 0.3]\n",
            "\tMAE: 318.77291382240213\n",
            "\n",
            "Iteration No: 12 ended. Search finished for the next optimal point.\n",
            "Time taken: 3.6573\n",
            "Function value obtained: 318.7729\n",
            "Current minimum: 318.2178\n",
            "Iteration No: 13 started. Searching for the next optimal point.\n",
            "[20:03:18] WARNING: /workspace/src/objective/regression_obj.cu:152: reg:linear is now deprecated in favor of reg:squarederror.\n",
            "\n",
            "Model Result:\n",
            "\tParams: [500, 0.01, 5, 0.3]\n",
            "\tMAE: 322.5101334012073\n",
            "\n",
            "Iteration No: 13 ended. Search finished for the next optimal point.\n",
            "Time taken: 2.9489\n",
            "Function value obtained: 322.5101\n",
            "Current minimum: 318.2178\n",
            "Iteration No: 14 started. Searching for the next optimal point.\n",
            "[20:03:21] WARNING: /workspace/src/objective/regression_obj.cu:152: reg:linear is now deprecated in favor of reg:squarederror.\n",
            "\n",
            "Model Result:\n",
            "\tParams: [1000, 0.003685021014403628, 5, 0.3]\n",
            "\tMAE: 325.3157667077106\n",
            "\n",
            "Iteration No: 14 ended. Search finished for the next optimal point.\n",
            "Time taken: 5.3384\n",
            "Function value obtained: 325.3158\n",
            "Current minimum: 318.2178\n",
            "Iteration No: 15 started. Searching for the next optimal point.\n",
            "[20:03:27] WARNING: /workspace/src/objective/regression_obj.cu:152: reg:linear is now deprecated in favor of reg:squarederror.\n",
            "\n",
            "Model Result:\n",
            "\tParams: [816, 0.01, 5, 0.3]\n",
            "\tMAE: 318.78733887257783\n",
            "\n",
            "Iteration No: 15 ended. Search finished for the next optimal point.\n",
            "Time taken: 4.5240\n",
            "Function value obtained: 318.7873\n",
            "Current minimum: 318.2178\n",
            "Iteration No: 16 started. Searching for the next optimal point.\n",
            "[20:03:31] WARNING: /workspace/src/objective/regression_obj.cu:152: reg:linear is now deprecated in favor of reg:squarederror.\n"
          ]
        },
        {
          "output_type": "stream",
          "name": "stderr",
          "text": [
            "/usr/local/lib/python3.8/dist-packages/skopt/optimizer/optimizer.py:449: UserWarning: The objective has been evaluated at this point before.\n",
            "  warnings.warn(\"The objective has been evaluated \"\n"
          ]
        },
        {
          "output_type": "stream",
          "name": "stdout",
          "text": [
            "\n",
            "Model Result:\n",
            "\tParams: [1000, 0.01, 5, 0.3]\n",
            "\tMAE: 318.2177609938642\n",
            "\n",
            "Iteration No: 16 ended. Search finished for the next optimal point.\n",
            "Time taken: 5.3499\n",
            "Function value obtained: 318.2178\n",
            "Current minimum: 318.2178\n",
            "Iteration No: 17 started. Searching for the next optimal point.\n",
            "[20:03:37] WARNING: /workspace/src/objective/regression_obj.cu:152: reg:linear is now deprecated in favor of reg:squarederror.\n"
          ]
        },
        {
          "output_type": "stream",
          "name": "stderr",
          "text": [
            "/usr/local/lib/python3.8/dist-packages/skopt/optimizer/optimizer.py:449: UserWarning: The objective has been evaluated at this point before.\n",
            "  warnings.warn(\"The objective has been evaluated \"\n"
          ]
        },
        {
          "output_type": "stream",
          "name": "stdout",
          "text": [
            "\n",
            "Model Result:\n",
            "\tParams: [1000, 0.01, 5, 0.3]\n",
            "\tMAE: 318.2177609938642\n",
            "\n",
            "Iteration No: 17 ended. Search finished for the next optimal point.\n",
            "Time taken: 5.1621\n",
            "Function value obtained: 318.2178\n",
            "Current minimum: 318.2178\n",
            "Iteration No: 18 started. Searching for the next optimal point.\n",
            "[20:03:42] WARNING: /workspace/src/objective/regression_obj.cu:152: reg:linear is now deprecated in favor of reg:squarederror.\n"
          ]
        },
        {
          "output_type": "stream",
          "name": "stderr",
          "text": [
            "/usr/local/lib/python3.8/dist-packages/skopt/optimizer/optimizer.py:449: UserWarning: The objective has been evaluated at this point before.\n",
            "  warnings.warn(\"The objective has been evaluated \"\n"
          ]
        },
        {
          "output_type": "stream",
          "name": "stdout",
          "text": [
            "\n",
            "Model Result:\n",
            "\tParams: [1000, 0.01, 5, 0.3]\n",
            "\tMAE: 318.2177609938642\n",
            "\n",
            "Iteration No: 18 ended. Search finished for the next optimal point.\n",
            "Time taken: 5.2462\n",
            "Function value obtained: 318.2178\n",
            "Current minimum: 318.2178\n",
            "Iteration No: 19 started. Searching for the next optimal point.\n",
            "[20:03:47] WARNING: /workspace/src/objective/regression_obj.cu:152: reg:linear is now deprecated in favor of reg:squarederror.\n"
          ]
        },
        {
          "output_type": "stream",
          "name": "stderr",
          "text": [
            "/usr/local/lib/python3.8/dist-packages/skopt/optimizer/optimizer.py:449: UserWarning: The objective has been evaluated at this point before.\n",
            "  warnings.warn(\"The objective has been evaluated \"\n"
          ]
        },
        {
          "output_type": "stream",
          "name": "stdout",
          "text": [
            "\n",
            "Model Result:\n",
            "\tParams: [1000, 0.01, 5, 0.3]\n",
            "\tMAE: 318.2177609938642\n",
            "\n",
            "Iteration No: 19 ended. Search finished for the next optimal point.\n",
            "Time taken: 5.1973\n",
            "Function value obtained: 318.2178\n",
            "Current minimum: 318.2178\n",
            "Iteration No: 20 started. Searching for the next optimal point.\n",
            "[20:03:52] WARNING: /workspace/src/objective/regression_obj.cu:152: reg:linear is now deprecated in favor of reg:squarederror.\n"
          ]
        },
        {
          "output_type": "stream",
          "name": "stderr",
          "text": [
            "/usr/local/lib/python3.8/dist-packages/skopt/optimizer/optimizer.py:449: UserWarning: The objective has been evaluated at this point before.\n",
            "  warnings.warn(\"The objective has been evaluated \"\n"
          ]
        },
        {
          "output_type": "stream",
          "name": "stdout",
          "text": [
            "\n",
            "Model Result:\n",
            "\tParams: [1000, 0.01, 5, 0.3]\n",
            "\tMAE: 318.2177609938642\n",
            "\n",
            "Iteration No: 20 ended. Search finished for the next optimal point.\n",
            "Time taken: 5.0891\n",
            "Function value obtained: 318.2178\n",
            "Current minimum: 318.2178\n"
          ]
        }
      ]
    },
    {
      "cell_type": "code",
      "source": [
        "print(\"Best params: {}\".format(res_mdl.x))"
      ],
      "metadata": {
        "colab": {
          "base_uri": "https://localhost:8080/"
        },
        "id": "VRcNFPfSIKuq",
        "outputId": "4ef074c4-76ee-4589-a0ac-1ca67f4e773b"
      },
      "execution_count": 29,
      "outputs": [
        {
          "output_type": "stream",
          "name": "stdout",
          "text": [
            "Best params: [1000, 0.01, 5, 0.3]\n"
          ]
        }
      ]
    },
    {
      "cell_type": "markdown",
      "metadata": {
        "id": "zTbc_JwTfM0p"
      },
      "source": [
        "## Predição nos dados de teste"
      ]
    },
    {
      "cell_type": "code",
      "source": [
        "n_estimators, learning_rate, max_depth, subsample = res_mdl.x\n",
        "\n",
        "final_model = XGBRegressor(\n",
        "    n_estimators=n_estimators,\n",
        "    learning_rate=learning_rate, \n",
        "    max_depth=max_depth,\n",
        "    subsample=subsample,\n",
        "    random_state=0\n",
        ")\n",
        "\n",
        "final_model.fit(X_train, y_train)\n",
        "y_pred = final_model.predict(X_test)"
      ],
      "metadata": {
        "colab": {
          "base_uri": "https://localhost:8080/"
        },
        "id": "zhDjBCSPI0rj",
        "outputId": "15e5141c-8ba3-4320-cdbf-b5f4977dbf96"
      },
      "execution_count": 30,
      "outputs": [
        {
          "output_type": "stream",
          "name": "stdout",
          "text": [
            "[20:03:57] WARNING: /workspace/src/objective/regression_obj.cu:152: reg:linear is now deprecated in favor of reg:squarederror.\n"
          ]
        }
      ]
    },
    {
      "cell_type": "markdown",
      "metadata": {
        "id": "8nX6Hj_XfbXI"
      },
      "source": [
        "## Performance do modelo nos dados de teste"
      ]
    },
    {
      "cell_type": "markdown",
      "metadata": {
        "id": "Z2-Ga2PYaJeH"
      },
      "source": [
        "### Erro Médio Absoluto"
      ]
    },
    {
      "cell_type": "code",
      "metadata": {
        "id": "hwcZgGh4Zm-5",
        "colab": {
          "base_uri": "https://localhost:8080/"
        },
        "outputId": "39f3a753-ef2a-484b-a150-56007a8c55fa"
      },
      "source": [
        "from sklearn.metrics import mean_absolute_error\n",
        "\n",
        "mae = mean_absolute_error(y_test, y_pred)\n",
        "print(mae)"
      ],
      "execution_count": 31,
      "outputs": [
        {
          "output_type": "stream",
          "name": "stdout",
          "text": [
            "263.76563439263055\n"
          ]
        }
      ]
    },
    {
      "cell_type": "markdown",
      "metadata": {
        "id": "_GoK6qwxaSJv"
      },
      "source": [
        "### Erro Quadrático Médio"
      ]
    },
    {
      "cell_type": "code",
      "metadata": {
        "id": "dxUzR4QoUvQt",
        "colab": {
          "base_uri": "https://localhost:8080/"
        },
        "outputId": "50bb207b-9f36-47da-a1b6-52fb31196874"
      },
      "source": [
        "from sklearn.metrics import mean_squared_error\n",
        "\n",
        "mse = mean_squared_error(y_test, y_pred)\n",
        "rmse = np.sqrt(mse)\n",
        "print(rmse)"
      ],
      "execution_count": 32,
      "outputs": [
        {
          "output_type": "stream",
          "name": "stdout",
          "text": [
            "375.156774515896\n"
          ]
        }
      ]
    },
    {
      "cell_type": "markdown",
      "metadata": {
        "id": "CpFPIhQ596BE"
      },
      "source": [
        "Grande diferença do erro médio absoluto entre os dados de treino e teste.\n",
        "\n",
        "Aparentemente o modelo está apresentando overfitting.\n",
        "\n",
        "Visando solucionar isso tentou-se modelos mais simples (regressão linear e SVR) mas, após testes, apresentaram resultados piores.\n",
        "\n",
        "Outra abordagem é o aumento do volume de dados (o dataset atual possui 8760 registros).\n",
        "\n",
        "Observo que, ao remover variáveis (precipitação e queda de neve) que possuem pouca relação com os demais atributos, o modelo apresentou leve piora.\n",
        "\n",
        "Outro ponto interessante é que, com a remoção de outliers, o modelo piorou. Creio que alguns desses registros ajudam o modelo a abstrair melhor."
      ]
    },
    {
      "cell_type": "markdown",
      "metadata": {
        "id": "etRUO8j9ekr4"
      },
      "source": [
        "## Impacto das variáveis no modelo"
      ]
    },
    {
      "cell_type": "code",
      "metadata": {
        "colab": {
          "base_uri": "https://localhost:8080/",
          "height": 598
        },
        "id": "KUn2BeYNZLis",
        "outputId": "f572408b-2083-4438-eb89-771517ed07f9"
      },
      "source": [
        "features = [\n",
        "    'Autumn', 'Spring','Summer','Winter', 'Hour', 'Temperature(°C)', 'Humidity(%)',\n",
        "    'Wind speed (m/s)', 'Dew point temperature(°C)',\n",
        "    'Holiday', 'Functioning Day', 'Year', 'Month', 'Day',\n",
        "    'cbrt_snowfall', 'cbrt_rainfall', 'cbrt_visibility', 'cbrt_solar_rad'\n",
        "]\n",
        "\n",
        "feature_importance = pd.DataFrame({'features': features, \n",
        "                                   'importance':final_model.feature_importances_})\n",
        "\n",
        "feature_importance = feature_importance.sort_values('importance', ascending=False)\n",
        "\n",
        "sns.catplot(x='importance', y='features', kind='bar', data=feature_importance, height=8, \n",
        "            aspect=1.2,  palette='Blues_d', ci=None)"
      ],
      "execution_count": 33,
      "outputs": [
        {
          "output_type": "execute_result",
          "data": {
            "text/plain": [
              "<seaborn.axisgrid.FacetGrid at 0x7f1ab61b7ca0>"
            ]
          },
          "metadata": {},
          "execution_count": 33
        },
        {
          "output_type": "display_data",
          "data": {
            "text/plain": [
              "<Figure size 691.2x576 with 1 Axes>"
            ],
            "image/png": "[encoded data removed]"
          },
          "metadata": {}
        }
      ]
    },
    {
      "cell_type": "markdown",
      "metadata": {
        "id": "WrPDUIHFe8Uw"
      },
      "source": [
        "O modelo considera a temperatura a principal variável para predição. Radiação solar, hora e precipitação também são relevantes, o que realmente faz sentido pois estão entre os pricipais fatores a serem considerados na prática de atividades ao ar livre."
      ]
    },
    {
      "cell_type": "markdown",
      "metadata": {
        "id": "HQtOQpQDxyYc"
      },
      "source": [
        "## Realizando uma predição\n",
        "\n",
        "**Valores de entrada:**\n",
        "\n",
        "1. Estação: outono\n",
        "1. Hora: 7:00\n",
        "1. Temperatura (° C): 5\n",
        "1. Umidade (%): 20\n",
        "1. Velocidade do vento (m / s): 0.3\n",
        "1. Visibilidade (m): 1900\n",
        "1. Temperatura do ponto de orvalho (° C): -5\n",
        "1. Radiação solar (MJ / m2): 0.2\n",
        "1. Precipitação (mm): 0\n",
        "1. Queda de neve (cm): 0\n",
        "1. Feriado: não\n",
        "1. Dia de funcionamento: sim\n",
        "1. Ano: 2018\n",
        "1. Mes: novembro\n",
        "1. Dia: 5\n",
        "\n"
      ]
    },
    {
      "cell_type": "code",
      "metadata": {
        "id": "RTbEz24qxyOA",
        "colab": {
          "base_uri": "https://localhost:8080/"
        },
        "outputId": "45af37db-b0cb-4d03-d7d5-536fbec27507"
      },
      "source": [
        "pred = [1,0,0,0,7,5,20,0.3,-5,1,1,2018,11,5, np.cbrt(0), np.cbrt(0), np.cbrt(1900), np.cbrt(0.2)]\n",
        "print(final_model.predict([pred]))"
      ],
      "execution_count": 34,
      "outputs": [
        {
          "output_type": "stream",
          "name": "stdout",
          "text": [
            "[568.02814]\n"
          ]
        }
      ]
    }
  ]
}